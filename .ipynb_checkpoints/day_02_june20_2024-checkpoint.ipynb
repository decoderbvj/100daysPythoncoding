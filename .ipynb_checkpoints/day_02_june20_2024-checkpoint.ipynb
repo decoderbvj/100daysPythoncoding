{
 "cells": [
  {
   "cell_type": "markdown",
   "id": "dbe421bc-5938-46cb-b579-682048e5337a",
   "metadata": {},
   "source": [
    "- Date :- June 2024\n",
    "- Day 2 of python coding challange."
   ]
  },
  {
   "cell_type": "markdown",
   "id": "f955f826-7fcf-4e7e-987e-595b3a56c9c9",
   "metadata": {},
   "source": [
    "**TO-DO :** Find the squareroot of a number."
   ]
  },
  {
   "cell_type": "code",
   "execution_count": 1,
   "id": "394bc116-02ad-43ed-8a77-6d6124f64569",
   "metadata": {},
   "outputs": [],
   "source": [
    "# by using math module\n"
   ]
  },
  {
   "cell_type": "code",
   "execution_count": 3,
   "id": "58fc6ef8-9a9b-474c-a42d-cf9fd55eed68",
   "metadata": {},
   "outputs": [
    {
     "name": "stdin",
     "output_type": "stream",
     "text": [
      "Enter a positive interger value 12\n"
     ]
    },
    {
     "name": "stdout",
     "output_type": "stream",
     "text": [
      "Squre root of  12 is : 3.4641016151377544\n"
     ]
    }
   ],
   "source": [
    "# find out the square root of a +ve integer value without decimal value\n",
    "import math as m\n",
    "value = input(\"Enter a positive integer value\")\n",
    "sqrt_of_value = m.sqrt(int(value))\n",
    "print('Squre root of ', value , 'is :', sqrt_of_value)"
   ]
  },
  {
   "cell_type": "markdown",
   "id": "f2afe48c-7538-4901-b9c2-4ee8775a9ec3",
   "metadata": {},
   "source": [
    "**Logic to solve the problem**\n",
    "- first import the math module as m\n",
    "- print to get a positive integer value form from the user\n",
    "- save the input in the **value**\n",
    "- to find out the square root of the value use the m.sqrt() function\n",
    "- in m.squrt() function passing the value argument\n",
    "- at passing value argument, convert the str data into int data\n",
    "- save the result in **sqrt_of_value**\n",
    "- display the squrt_of_value in print"
   ]
  },
  {
   "cell_type": "code",
   "execution_count": 4,
   "id": "1b99d282-6a47-4c93-9f2b-6996879deb16",
   "metadata": {},
   "outputs": [
    {
     "name": "stdin",
     "output_type": "stream",
     "text": [
      "Enter a positive integer value -12\n"
     ]
    },
    {
     "ename": "ValueError",
     "evalue": "math domain error",
     "output_type": "error",
     "traceback": [
      "\u001b[0;31m---------------------------------------------------------------------------\u001b[0m",
      "\u001b[0;31mValueError\u001b[0m                                Traceback (most recent call last)",
      "Cell \u001b[0;32mIn[4], line 4\u001b[0m\n\u001b[1;32m      2\u001b[0m \u001b[38;5;28;01mimport\u001b[39;00m \u001b[38;5;21;01mmath\u001b[39;00m \u001b[38;5;28;01mas\u001b[39;00m \u001b[38;5;21;01mm\u001b[39;00m\n\u001b[1;32m      3\u001b[0m value \u001b[38;5;241m=\u001b[39m \u001b[38;5;28minput\u001b[39m(\u001b[38;5;124m\"\u001b[39m\u001b[38;5;124mEnter a positive integer value\u001b[39m\u001b[38;5;124m\"\u001b[39m)\n\u001b[0;32m----> 4\u001b[0m sqrt_of_value \u001b[38;5;241m=\u001b[39m \u001b[43mm\u001b[49m\u001b[38;5;241;43m.\u001b[39;49m\u001b[43msqrt\u001b[49m\u001b[43m(\u001b[49m\u001b[38;5;28;43mint\u001b[39;49m\u001b[43m(\u001b[49m\u001b[43mvalue\u001b[49m\u001b[43m)\u001b[49m\u001b[43m)\u001b[49m\n\u001b[1;32m      5\u001b[0m \u001b[38;5;28mprint\u001b[39m(\u001b[38;5;124m'\u001b[39m\u001b[38;5;124mSqure root of \u001b[39m\u001b[38;5;124m'\u001b[39m, value , \u001b[38;5;124m'\u001b[39m\u001b[38;5;124mis :\u001b[39m\u001b[38;5;124m'\u001b[39m, sqrt_of_value)\n",
      "\u001b[0;31mValueError\u001b[0m: math domain error"
     ]
    }
   ],
   "source": [
    "# find out the square root of a -ve integer value without a decimal value\n",
    "import math as m\n",
    "value = input(\"Enter a positive integer value\")\n",
    "sqrt_of_value = m.sqrt(int(value))\n",
    "print('Squre root of ', value , 'is :', sqrt_of_value)"
   ]
  },
  {
   "cell_type": "markdown",
   "id": "f320ac2a-037e-488e-b5c8-7dce0bbba7cf",
   "metadata": {},
   "source": [
    "- Getting error as when try to find out the square root of -ve interger without decimal value than sqrt() of math module does not support."
   ]
  },
  {
   "cell_type": "code",
   "execution_count": 5,
   "id": "e68a630b-d70c-41d4-be26-30a6a1c1c316",
   "metadata": {},
   "outputs": [
    {
     "name": "stdin",
     "output_type": "stream",
     "text": [
      "Enter a -ve integer value:  -16\n"
     ]
    },
    {
     "ename": "TypeError",
     "evalue": "must be real number, not str",
     "output_type": "error",
     "traceback": [
      "\u001b[0;31m---------------------------------------------------------------------------\u001b[0m",
      "\u001b[0;31mTypeError\u001b[0m                                 Traceback (most recent call last)",
      "Cell \u001b[0;32mIn[5], line 4\u001b[0m\n\u001b[1;32m      2\u001b[0m \u001b[38;5;28;01mimport\u001b[39;00m \u001b[38;5;21;01mcmath\u001b[39;00m \u001b[38;5;28;01mas\u001b[39;00m \u001b[38;5;21;01mcm\u001b[39;00m\n\u001b[1;32m      3\u001b[0m value \u001b[38;5;241m=\u001b[39m \u001b[38;5;28minput\u001b[39m(\u001b[38;5;124m\"\u001b[39m\u001b[38;5;124mEnter a -ve integer value: \u001b[39m\u001b[38;5;124m\"\u001b[39m)\n\u001b[0;32m----> 4\u001b[0m sqrt_of_value \u001b[38;5;241m=\u001b[39m \u001b[43mcm\u001b[49m\u001b[38;5;241;43m.\u001b[39;49m\u001b[43msqrt\u001b[49m\u001b[43m(\u001b[49m\u001b[43mvalue\u001b[49m\u001b[43m)\u001b[49m\n\u001b[1;32m      5\u001b[0m \u001b[38;5;28mprint\u001b[39m(\u001b[38;5;124m'\u001b[39m\u001b[38;5;124mSqure root of \u001b[39m\u001b[38;5;124m'\u001b[39m, value , \u001b[38;5;124m'\u001b[39m\u001b[38;5;124mis :\u001b[39m\u001b[38;5;124m'\u001b[39m, sqrt_of_value)\n",
      "\u001b[0;31mTypeError\u001b[0m: must be real number, not str"
     ]
    }
   ],
   "source": [
    "# Find out the square root of a -ve integer value without decimal value\n",
    "import cmath as cm\n",
    "value = input(\"Enter a -ve integer value: \")\n",
    "sqrt_of_value = cm.sqrt(value)\n",
    "print('Squre root of ', value , 'is :', sqrt_of_value)\n"
   ]
  },
  {
   "cell_type": "markdown",
   "id": "b69c98ab-dad9-48c8-a586-e9be81722f59",
   "metadata": {},
   "source": [
    "- As the sqrt() procedure of cmath moudle does not take a str value, we get TypeError"
   ]
  },
  {
   "cell_type": "code",
   "execution_count": 6,
   "id": "65cd07b7-d6ba-40a2-bae0-85812ced93b9",
   "metadata": {},
   "outputs": [
    {
     "name": "stdin",
     "output_type": "stream",
     "text": [
      "Enter a -ve integer value:  -9\n"
     ]
    },
    {
     "name": "stdout",
     "output_type": "stream",
     "text": [
      "Squre root of  -9 is : 3j\n"
     ]
    }
   ],
   "source": [
    "# Find out the square root of a -ve integer value without decimal value\n",
    "import cmath as cm\n",
    "value = int(input(\"Enter a -ve integer value: \"))\n",
    "sqrt_of_value = cm.sqrt(value)\n",
    "print('Squre root of ', value , 'is :', sqrt_of_value)\n"
   ]
  },
  {
   "cell_type": "markdown",
   "id": "6035e033-0c4e-485c-bd3a-1685eb81021d",
   "metadata": {},
   "source": [
    "**Logic to solve the problem**\n",
    "- first import cmath module as cm\n",
    "- print to get a -ve integer value from the user\n",
    "- conver the input str to int value\n",
    "- save the int value in **value** identifier\n",
    "- use **cm.sqrt()** function to find out the square root -ve integer value\n",
    "- pass the value in the cm.fqurt() as argument\n",
    "- save the result in **sqrt_of_value**\n",
    "- Print the output"
   ]
  },
  {
   "cell_type": "code",
   "execution_count": 7,
   "id": "6a171131-7914-4a69-a24f-621336ac988c",
   "metadata": {},
   "outputs": [],
   "source": [
    "# Find out the squate root of +ve no and -ve interger no value without decimal value \n",
    "# by taking value from user "
   ]
  },
  {
   "cell_type": "code",
   "execution_count": 9,
   "id": "ab00d93b-2481-4305-b337-f12bf278a4e2",
   "metadata": {},
   "outputs": [
    {
     "name": "stdin",
     "output_type": "stream",
     "text": [
      "Enter a integer value :  -12\n"
     ]
    },
    {
     "name": "stdout",
     "output_type": "stream",
     "text": [
      "Square root of  -12  is : 3.4641016151377544j\n"
     ]
    }
   ],
   "source": [
    "import cmath as cm\n",
    "value = input('Enter a integer value : ')\n",
    "sqrt_of_value = cm.sqrt(int(value))\n",
    "print('Square root of ', value,' is :', sqrt_of_value)"
   ]
  },
  {
   "cell_type": "code",
   "execution_count": 12,
   "id": "3b04c0b0-d828-45d0-8d68-52f00544908f",
   "metadata": {},
   "outputs": [
    {
     "name": "stdin",
     "output_type": "stream",
     "text": [
      "Enter a integer value :  9\n"
     ]
    },
    {
     "name": "stdout",
     "output_type": "stream",
     "text": [
      "Square root of  9  is : (3+0j)\n"
     ]
    }
   ],
   "source": [
    "import cmath as cm\n",
    "value = input('Enter a integer value : ')\n",
    "sqrt_of_value = cm.sqrt(int(value))\n",
    "print('Square root of ', value,' is :', sqrt_of_value)"
   ]
  },
  {
   "cell_type": "code",
   "execution_count": null,
   "id": "5d4e2e55-0445-4433-b170-35a27644d97a",
   "metadata": {},
   "outputs": [],
   "source": [
    "# find out the square root of a decimal no interger value which is float value"
   ]
  },
  {
   "cell_type": "code",
   "execution_count": 14,
   "id": "e20e7009-35b8-4a05-85af-ec4b08f2a596",
   "metadata": {},
   "outputs": [
    {
     "name": "stdin",
     "output_type": "stream",
     "text": [
      "enter a Integer value : 9.0\n"
     ]
    },
    {
     "ename": "TypeError",
     "evalue": "must be real number, not str",
     "output_type": "error",
     "traceback": [
      "\u001b[0;31m---------------------------------------------------------------------------\u001b[0m",
      "\u001b[0;31mTypeError\u001b[0m                                 Traceback (most recent call last)",
      "Cell \u001b[0;32mIn[14], line 3\u001b[0m\n\u001b[1;32m      1\u001b[0m \u001b[38;5;28;01mimport\u001b[39;00m \u001b[38;5;21;01mmath\u001b[39;00m \u001b[38;5;28;01mas\u001b[39;00m \u001b[38;5;21;01mmt\u001b[39;00m\n\u001b[1;32m      2\u001b[0m value\u001b[38;5;241m=\u001b[39m \u001b[38;5;28minput\u001b[39m(\u001b[38;5;124m'\u001b[39m\u001b[38;5;124menter a Integer value :\u001b[39m\u001b[38;5;124m'\u001b[39m)\n\u001b[0;32m----> 3\u001b[0m sqrt_of_value \u001b[38;5;241m=\u001b[39m \u001b[43mmt\u001b[49m\u001b[38;5;241;43m.\u001b[39;49m\u001b[43msqrt\u001b[49m\u001b[43m(\u001b[49m\u001b[43mvalue\u001b[49m\u001b[43m)\u001b[49m\n\u001b[1;32m      4\u001b[0m \u001b[38;5;28mprint\u001b[39m(\u001b[38;5;124m'\u001b[39m\u001b[38;5;124mSquare root of \u001b[39m\u001b[38;5;124m'\u001b[39m, value,\u001b[38;5;124m'\u001b[39m\u001b[38;5;124m is :\u001b[39m\u001b[38;5;124m'\u001b[39m, sqrt_of_value)\n",
      "\u001b[0;31mTypeError\u001b[0m: must be real number, not str"
     ]
    }
   ],
   "source": [
    "import math as mt\n",
    "value= input('enter a Integer value :')\n",
    "sqrt_of_value = mt.sqrt(value)\n",
    "print('Square root of ', value,' is :', sqrt_of_value)"
   ]
  },
  {
   "cell_type": "markdown",
   "id": "67bc3775-fa75-4cbd-a1a0-8fbda33ba9e1",
   "metadata": {},
   "source": [
    "**NOTE**\n",
    "- As math module does sqrt() function only takes +ve integer value as argument , TypeError is in result"
   ]
  },
  {
   "cell_type": "code",
   "execution_count": 16,
   "id": "005684bf-0a44-4d79-b804-a778959f9620",
   "metadata": {},
   "outputs": [
    {
     "name": "stdin",
     "output_type": "stream",
     "text": [
      "Enter a decimal no : 9.0\n"
     ]
    },
    {
     "name": "stdout",
     "output_type": "stream",
     "text": [
      "Square root of  9.0  is : (3+0j)\n"
     ]
    }
   ],
   "source": [
    "import cmath as cm\n",
    "value = input('Enter a decimal no :')\n",
    "sqrt_of_value = cm.sqrt(float(value))\n",
    "print('Square root of ', value,' is :', sqrt_of_value)"
   ]
  },
  {
   "cell_type": "code",
   "execution_count": 17,
   "id": "c5e197e1-ef8c-485d-a4ee-8e66c9c4429a",
   "metadata": {},
   "outputs": [
    {
     "name": "stdin",
     "output_type": "stream",
     "text": [
      "Enter a decimal no : -16.16\n"
     ]
    },
    {
     "name": "stdout",
     "output_type": "stream",
     "text": [
      "Square root of  -16.16  is : 4.019950248448356j\n"
     ]
    }
   ],
   "source": [
    "import cmath as cm\n",
    "value = input('Enter a decimal no :')\n",
    "sqrt_of_value = cm.sqrt(float(value))\n",
    "print('Square root of ', value,' is :', sqrt_of_value)"
   ]
  },
  {
   "cell_type": "markdown",
   "id": "a37208b0-8f1f-446d-8e29-76c30317a9a7",
   "metadata": {},
   "source": [
    "**Logic to solve the problem statement**\n",
    "- first input the cmath module as cm\n",
    "- print to get input a decimal no from user\n",
    "- save the input in **value**\n",
    "- find the square root of input value by using cm.sqrt() function\n",
    "- Pass value by converting into float value in cm.sqrt() function as argument\n",
    "- save the result in the sqrt_of_value\n",
    "- print the squrt_of_value"
   ]
  },
  {
   "cell_type": "code",
   "execution_count": 18,
   "id": "5296472c-5121-43e5-9f8e-a88ce9ffb846",
   "metadata": {},
   "outputs": [
    {
     "name": "stdin",
     "output_type": "stream",
     "text": [
      "Enter a decimal no : -.98\n"
     ]
    },
    {
     "name": "stdout",
     "output_type": "stream",
     "text": [
      "Square root of  -.98  is : 0.9899494936611666j\n"
     ]
    }
   ],
   "source": [
    "import cmath as cm\n",
    "value = input('Enter a decimal no :')\n",
    "sqrt_of_value = cm.sqrt(float(value))\n",
    "print('Square root of ', value,' is :', sqrt_of_value)"
   ]
  },
  {
   "cell_type": "code",
   "execution_count": 19,
   "id": "e38f4e07-e337-4413-b808-9b46283973b7",
   "metadata": {},
   "outputs": [],
   "source": [
    "# find out the sqrt of a binary no "
   ]
  },
  {
   "cell_type": "code",
   "execution_count": 31,
   "id": "358643cf-e148-4a94-aade-fb178cd28222",
   "metadata": {},
   "outputs": [
    {
     "name": "stdin",
     "output_type": "stream",
     "text": [
      "Enter a binary no  0b1010\n"
     ]
    },
    {
     "name": "stdout",
     "output_type": "stream",
     "text": [
      "Square root of  0b1010  is : 3.1622776601683795\n"
     ]
    }
   ],
   "source": [
    "import math as m\n",
    "value = input('Enter a binary no ')\n",
    "int_value = int(value,2)\n",
    "sqrt_of_value = m.sqrt(int_value)\n",
    "print('Square root of ', value,' is :', sqrt_of_value)"
   ]
  },
  {
   "cell_type": "markdown",
   "id": "20a6da79-7ae8-4475-a1fb-4948a3f316da",
   "metadata": {},
   "source": [
    "**Logic to solve the problem**\n",
    "- print to ask user a binary no\n",
    "- save the binary no input as **value**\n",
    "- convert the binary no into inter value by using int(str, base) i.e. int(0b1010, 2)\n",
    "- save the result in **int_value**\n",
    "- find the square root of the input value by using m.sqrt() function\n",
    "- pass **int_value** in m.sqrt() as argument\n",
    "- save the result in **sqrt_of_value**\n",
    "- print the value **sqrt_of_value**"
   ]
  },
  {
   "cell_type": "code",
   "execution_count": null,
   "id": "ce3c771a-4fb3-43a4-8de8-a74f2d73461a",
   "metadata": {},
   "outputs": [],
   "source": []
  }
 ],
 "metadata": {
  "kernelspec": {
   "display_name": "Python 3 (ipykernel)",
   "language": "python",
   "name": "python3"
  },
  "language_info": {
   "codemirror_mode": {
    "name": "ipython",
    "version": 3
   },
   "file_extension": ".py",
   "mimetype": "text/x-python",
   "name": "python",
   "nbconvert_exporter": "python",
   "pygments_lexer": "ipython3",
   "version": "3.12.3"
  }
 },
 "nbformat": 4,
 "nbformat_minor": 5
}
