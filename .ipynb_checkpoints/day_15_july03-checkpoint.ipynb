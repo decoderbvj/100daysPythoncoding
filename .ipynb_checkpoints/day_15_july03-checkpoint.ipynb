{
 "cells": [
  {
   "cell_type": "markdown",
   "id": "bf55db2a-74a3-441e-a70a-d8c0129ba74a",
   "metadata": {},
   "source": [
    "- Date - July 03, 2024\n",
    "- day -15 of 100days of python coding"
   ]
  },
  {
   "cell_type": "code",
   "execution_count": null,
   "id": "38acd143-0ff7-40bc-bdae-e39df8f0081d",
   "metadata": {},
   "outputs": [],
   "source": [
    "#Display multiplication table"
   ]
  },
  {
   "cell_type": "code",
   "execution_count": 7,
   "id": "2cb576c0-b84a-4b86-9960-c6ee84ec5588",
   "metadata": {},
   "outputs": [
    {
     "name": "stdin",
     "output_type": "stream",
     "text": [
      "Enter the multiplication table no. : 12\n"
     ]
    },
    {
     "name": "stdout",
     "output_type": "stream",
     "text": [
      "Multiplication Table for 12\n",
      "====================\n",
      "12 X 1 = 12\n",
      "12 X 2 = 24\n",
      "12 X 3 = 36\n",
      "12 X 4 = 48\n",
      "12 X 5 = 60\n",
      "12 X 6 = 72\n",
      "12 X 7 = 84\n",
      "12 X 8 = 96\n",
      "12 X 9 = 108\n",
      "12 X 10 = 120\n"
     ]
    }
   ],
   "source": [
    "table_no = eval(input(\"Enter the multiplication table no. :\"))\n",
    "if table_no > 0:\n",
    "    i = 1\n",
    "    print(\"Multiplication Table for {}\".format(table_no))\n",
    "    print(\"=\".center(20,\"=\"))\n",
    "    while i <=10:\n",
    "        print(f\"{table_no} X {i} = {table_no * i}\")\n",
    "        i = i+1\n",
    "else: \n",
    "    print(\"Invalid inputs\")"
   ]
  },
  {
   "cell_type": "code",
   "execution_count": null,
   "id": "e7eee42d-2750-4682-a2f2-d7a091b5aa13",
   "metadata": {},
   "outputs": [],
   "source": []
  }
 ],
 "metadata": {
  "kernelspec": {
   "display_name": "Python 3 (ipykernel)",
   "language": "python",
   "name": "python3"
  },
  "language_info": {
   "codemirror_mode": {
    "name": "ipython",
    "version": 3
   },
   "file_extension": ".py",
   "mimetype": "text/x-python",
   "name": "python",
   "nbconvert_exporter": "python",
   "pygments_lexer": "ipython3",
   "version": "3.12.4"
  }
 },
 "nbformat": 4,
 "nbformat_minor": 5
}
