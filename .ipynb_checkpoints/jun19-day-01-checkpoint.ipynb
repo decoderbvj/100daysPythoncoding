{
 "cells": [
  {
   "cell_type": "markdown",
   "id": "8ae05bb5-4f34-41e0-91c4-2f4b67b2521c",
   "metadata": {},
   "source": [
    "**This is the first day of my python coding challenge**\n",
    "- today I am going to set up git-hub\n",
    "- create day one notebook\n",
    "- Print that I have accepted the challenge\n",
    "- save the file\n",
    "- commit it to the git hub profile"
   ]
  },
  {
   "cell_type": "code",
   "execution_count": 1,
   "id": "99b89961-f0f9-4f93-a201-3b7d7409797c",
   "metadata": {},
   "outputs": [
    {
     "name": "stdout",
     "output_type": "stream",
     "text": [
      "I have accpeted the 100 days python coding challenge\n"
     ]
    }
   ],
   "source": [
    "print(\"I have accpeted the 100 days python coding challenge\")"
   ]
  },
  {
   "cell_type": "code",
   "execution_count": null,
   "id": "6d1f07ac-362d-4a07-9ffa-9c7a64f0a6c4",
   "metadata": {},
   "outputs": [],
   "source": []
  }
 ],
 "metadata": {
  "kernelspec": {
   "display_name": "Python 3 (ipykernel)",
   "language": "python",
   "name": "python3"
  },
  "language_info": {
   "codemirror_mode": {
    "name": "ipython",
    "version": 3
   },
   "file_extension": ".py",
   "mimetype": "text/x-python",
   "name": "python",
   "nbconvert_exporter": "python",
   "pygments_lexer": "ipython3",
   "version": "3.12.3"
  }
 },
 "nbformat": 4,
 "nbformat_minor": 5
}
