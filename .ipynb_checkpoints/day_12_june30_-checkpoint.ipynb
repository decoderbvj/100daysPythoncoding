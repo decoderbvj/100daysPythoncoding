{
 "cells": [
  {
   "cell_type": "markdown",
   "id": "de7e67b8-8552-4681-aa6a-92736bca0875",
   "metadata": {},
   "source": [
    "- Date : - July 30,2024\n",
    "- day - 12 of 100 days of coding"
   ]
  },
  {
   "attachments": {},
   "cell_type": "markdown",
   "id": "ffc0d127-d3bd-4bf6-8f86-48ddf9347a52",
   "metadata": {},
   "source": [
    "### Write a code to get maximum of three number."
   ]
  },
  {
   "cell_type": "code",
   "execution_count": 11,
   "id": "d55957d1-02f8-41c7-94d6-021e7924295f",
   "metadata": {},
   "outputs": [
    {
     "name": "stdin",
     "output_type": "stream",
     "text": [
      "Input first number :  12\n",
      "Input second number :  15\n",
      "Input third number :  13\n"
     ]
    },
    {
     "name": "stdout",
     "output_type": "stream",
     "text": [
      "Second number i.e. 15 is greatest among 12,15,13\n"
     ]
    }
   ],
   "source": [
    "# code: \n",
    "first_number = eval(input(\"Input first number : \"))\n",
    "second_number = eval(input(\"Input second number : \"))\n",
    "third_number = eval(input(\"Input third number : \"))\n",
    "if first_number > second_number and first_number > third_number :\n",
    "    print(f\"First number i.e. {first_number} is greatest among {first_number},{second_number},{third_number}\")\n",
    "elif second_number > third_number : \n",
    "    print(f\"Second number i.e. {second_number} is greatest among {first_number},{second_number},{third_number}\")\n",
    "else : print(f\"Third number i.e. {third_number} is greatest among {first_number},{second_number},{third_number}\")"
   ]
  },
  {
   "cell_type": "code",
   "execution_count": 13,
   "id": "fe9803bd-2ce5-4047-a885-d5c80e847e5f",
   "metadata": {},
   "outputs": [],
   "source": [
    "# another apporach using perdefind funciton max()"
   ]
  },
  {
   "cell_type": "code",
   "execution_count": 19,
   "id": "3f6add3c-0201-4a22-b488-f1208d82adc1",
   "metadata": {},
   "outputs": [
    {
     "name": "stdout",
     "output_type": "stream",
     "text": [
      "Help on built-in function max in module builtins:\n",
      "\n",
      "max(...)\n",
      "    max(iterable, *[, default=obj, key=func]) -> value\n",
      "    max(arg1, arg2, *args, *[, key=func]) -> value\n",
      "\n",
      "    With a single iterable argument, return its biggest item. The\n",
      "    default keyword-only argument specifies an object to return if\n",
      "    the provided iterable is empty.\n",
      "    With two or more arguments, return the largest argument.\n",
      "\n"
     ]
    }
   ],
   "source": [
    "help(\"max\")"
   ]
  },
  {
   "cell_type": "code",
   "execution_count": 21,
   "id": "c44dd6ae-fb25-4eaa-835c-659eb83dca39",
   "metadata": {},
   "outputs": [
    {
     "name": "stdin",
     "output_type": "stream",
     "text": [
      "Input first number :  12\n",
      "Input second number :  13\n",
      "Input third number :  14\n"
     ]
    },
    {
     "data": {
      "text/plain": [
       "14"
      ]
     },
     "execution_count": 21,
     "metadata": {},
     "output_type": "execute_result"
    }
   ],
   "source": [
    "first_number = eval(input(\"Input first number : \"))\n",
    "second_number = eval(input(\"Input second number : \"))\n",
    "third_number = eval(input(\"Input third number : \"))\n",
    "max_of_numbers = max(first_number,second_number,third_number)\n",
    "max_of_numbers"
   ]
  },
  {
   "cell_type": "code",
   "execution_count": 25,
   "id": "de4f44f0-b20c-4734-b3c2-ceb1efee0739",
   "metadata": {},
   "outputs": [
    {
     "name": "stdout",
     "output_type": "stream",
     "text": [
      "============INPUT=============\n"
     ]
    },
    {
     "name": "stdin",
     "output_type": "stream",
     "text": [
      "Input first number :  12\n",
      "Input second number :  13\n",
      "Input third number :  14\n"
     ]
    },
    {
     "name": "stdout",
     "output_type": "stream",
     "text": [
      "============output============\n",
      "Maximum among 12, 13 and 14 is 14\n"
     ]
    }
   ],
   "source": [
    "import time\n",
    "time.sleep(1)\n",
    "print(str(\"INPUT\").center(30,'='))\n",
    "time.sleep(1)\n",
    "first_number = eval(input(\"Input first number : \"))\n",
    "time.sleep(1)\n",
    "second_number = eval(input(\"Input second number : \"))\n",
    "time.sleep(1)\n",
    "time.sleep(1)\n",
    "third_number = eval(input(\"Input third number : \"))\n",
    "print('output'.center(30,'='))\n",
    "time.sleep(1)\n",
    "max_of_numbers = max(first_number,second_number,third_number)\n",
    "print(f\"Maximum among {first_number}, {second_number} and {third_number} is {max_of_numbers}\")"
   ]
  },
  {
   "cell_type": "code",
   "execution_count": null,
   "id": "10536a15-b940-4fdc-8acc-439912431c19",
   "metadata": {},
   "outputs": [],
   "source": []
  }
 ],
 "metadata": {
  "kernelspec": {
   "display_name": "Python 3 (ipykernel)",
   "language": "python",
   "name": "python3"
  },
  "language_info": {
   "codemirror_mode": {
    "name": "ipython",
    "version": 3
   },
   "file_extension": ".py",
   "mimetype": "text/x-python",
   "name": "python",
   "nbconvert_exporter": "python",
   "pygments_lexer": "ipython3",
   "version": "3.12.4"
  }
 },
 "nbformat": 4,
 "nbformat_minor": 5
}
