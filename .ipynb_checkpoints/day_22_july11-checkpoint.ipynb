{
 "cells": [
  {
   "cell_type": "markdown",
   "id": "0c76e93a-ce0d-46c4-a12b-ec0f2ea0e382",
   "metadata": {},
   "source": [
    "- Date : - July 11, 2024\n",
    "- 22nd days of 100 days of python coding"
   ]
  },
  {
   "cell_type": "code",
   "execution_count": null,
   "id": "d3ff1b0e-05cb-4b87-93ef-8c9639eac0b5",
   "metadata": {},
   "outputs": [],
   "source": [
    "#sort words in alphabetic order"
   ]
  },
  {
   "cell_type": "code",
   "execution_count": 2,
   "id": "57f75a86-7e63-4466-af0e-90c71882a6ee",
   "metadata": {},
   "outputs": [
    {
     "name": "stdin",
     "output_type": "stream",
     "text": [
      "Enter a sentence bhairab Venkata jagat\n"
     ]
    },
    {
     "name": "stdout",
     "output_type": "stream",
     "text": [
      "['Venkata', 'bhairab', 'jagat']\n"
     ]
    }
   ],
   "source": [
    "#code : \n",
    "input_string= input(\"Enter a sentence\").split(\" \")\n",
    "sort_strint = sorted(input_string)\n",
    "print(sort_strint)"
   ]
  },
  {
   "cell_type": "code",
   "execution_count": null,
   "id": "fec1c1e7-526e-412d-9c19-1a9ec288cfa9",
   "metadata": {},
   "outputs": [],
   "source": []
  },
  {
   "cell_type": "code",
   "execution_count": null,
   "id": "ce95e3ef-7c4a-43ba-8304-414d78ad46d2",
   "metadata": {},
   "outputs": [],
   "source": []
  },
  {
   "cell_type": "code",
   "execution_count": null,
   "id": "bd5a78db-18da-4893-8c24-a36d14ed2e02",
   "metadata": {},
   "outputs": [],
   "source": []
  }
 ],
 "metadata": {
  "kernelspec": {
   "display_name": "Python 3 (ipykernel)",
   "language": "python",
   "name": "python3"
  },
  "language_info": {
   "codemirror_mode": {
    "name": "ipython",
    "version": 3
   },
   "file_extension": ".py",
   "mimetype": "text/x-python",
   "name": "python",
   "nbconvert_exporter": "python",
   "pygments_lexer": "ipython3",
   "version": "3.12.4"
  }
 },
 "nbformat": 4,
 "nbformat_minor": 5
}
