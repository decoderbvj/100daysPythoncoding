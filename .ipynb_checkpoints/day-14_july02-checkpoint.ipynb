{
 "cells": [
  {
   "cell_type": "markdown",
   "id": "31499f80-35fa-46a6-92f4-9d187acbbf36",
   "metadata": {},
   "source": [
    "- date : - July 02, 2024\n",
    "- Day- 14 of the 100 days python coding challenge.\n",
    "- by : Bhairab Venakt Jagat"
   ]
  },
  {
   "cell_type": "markdown",
   "id": "3597c19b-2c85-4e05-a71a-64c717901e3f",
   "metadata": {},
   "source": [
    "- TO DO :\n",
    "  - write a program and ask the user to provide a non positieve integer number\n",
    "  - find the eneter number is non zeo positve or not\n",
    "  - if zero print invalid entery\n",
    "  - if positive print claculate the factorial of the number\n",
    "  - print the factorial of that number"
   ]
  },
  {
   "cell_type": "markdown",
   "id": "6aeee983-4644-41e2-9103-1b201a85554f",
   "metadata": {},
   "source": [
    "#### <font color='red'>NOTE :</fond>\n",
    "- 5! = 5 X 4 X 3 X 2 X 1"
   ]
  },
  {
   "cell_type": "code",
   "execution_count": 140,
   "id": "aefe2cfb-2a08-4140-b704-3453d8cb2e4a",
   "metadata": {},
   "outputs": [],
   "source": [
    "# defining function to get number \n",
    "def get_no():\n",
    "    try:\n",
    "        return list([eval(input(\"Enter a non zero integer value :\"))])\n",
    "    except Exception as e:\n",
    "        print(\"error in the get_no() \")\n",
    "        print(e)\n",
    "        return []\n",
    "# function to check non zero value \n",
    "def get_nonZero_no(number):\n",
    "    try:\n",
    "        if number[0]> 0:\n",
    "            number.append(True)\n",
    "            return number\n",
    "        else:\n",
    "            return number.append(False)\n",
    "    except Exception as e:\n",
    "        print(\"Error in the get_nonZero_no()\")\n",
    "        print(e)\n",
    "        return number\n",
    "\n",
    "# functio to calculate factorial\n",
    "def findFactorial(number):\n",
    "    try:\n",
    "        if number[-1]:\n",
    "            i = number[0]\n",
    "            factorial = 1\n",
    "            while i>0 :\n",
    "                factorial = factorial * i\n",
    "                i -=1\n",
    "            return factorial\n",
    "        else:\n",
    "            return 0\n",
    "    except Exception as e:\n",
    "        print(\"Error in find factorial function \")\n",
    "        return 0"
   ]
  },
  {
   "cell_type": "code",
   "execution_count": 142,
   "id": "3c3a212a-b814-4c85-a643-5254fb8aa4ba",
   "metadata": {},
   "outputs": [],
   "source": [
    "def main():\n",
    "    try:\n",
    "        number = get_no()\n",
    "        if len(number)>0:\n",
    "            factorial = findFactorial(get_nonZero_no(number))\n",
    "            print(f\"Factorial of {number[0]} is {factorial}\")\n",
    "    except Exception as e:\n",
    "        print(\"Error in main method\")\n",
    "        print(e)"
   ]
  },
  {
   "cell_type": "code",
   "execution_count": 144,
   "id": "0ec81947-96f1-4dfe-b569-5768f600c69b",
   "metadata": {},
   "outputs": [
    {
     "name": "stdin",
     "output_type": "stream",
     "text": [
      "Enter a non zero integer value : 5\n"
     ]
    },
    {
     "name": "stdout",
     "output_type": "stream",
     "text": [
      "Factorial of 5 is 120\n"
     ]
    }
   ],
   "source": [
    "main()"
   ]
  },
  {
   "cell_type": "code",
   "execution_count": null,
   "id": "2e2b853b-9480-4ae6-95e8-2fad7e3b98cc",
   "metadata": {},
   "outputs": [],
   "source": []
  },
  {
   "cell_type": "code",
   "execution_count": null,
   "id": "36cd6e03-fc54-4747-903c-a1feb5589165",
   "metadata": {},
   "outputs": [],
   "source": [
    "\n"
   ]
  },
  {
   "cell_type": "code",
   "execution_count": null,
   "id": "8928f246-b578-4015-b861-83ab0d393f3d",
   "metadata": {},
   "outputs": [],
   "source": []
  },
  {
   "cell_type": "code",
   "execution_count": null,
   "id": "cc342375-9791-4606-aaf8-b85a9e8d721b",
   "metadata": {},
   "outputs": [],
   "source": []
  },
  {
   "cell_type": "code",
   "execution_count": null,
   "id": "3f6e2796-de1c-426a-9750-f340470678c2",
   "metadata": {},
   "outputs": [],
   "source": []
  },
  {
   "cell_type": "code",
   "execution_count": null,
   "id": "eb892d09-d238-4b8d-b609-746ab9494918",
   "metadata": {},
   "outputs": [],
   "source": []
  },
  {
   "cell_type": "code",
   "execution_count": null,
   "id": "fe937452-ad6c-4eb0-97cd-11a40f80bdca",
   "metadata": {},
   "outputs": [],
   "source": []
  }
 ],
 "metadata": {
  "kernelspec": {
   "display_name": "Python 3 (ipykernel)",
   "language": "python",
   "name": "python3"
  },
  "language_info": {
   "codemirror_mode": {
    "name": "ipython",
    "version": 3
   },
   "file_extension": ".py",
   "mimetype": "text/x-python",
   "name": "python",
   "nbconvert_exporter": "python",
   "pygments_lexer": "ipython3",
   "version": "3.12.4"
  }
 },
 "nbformat": 4,
 "nbformat_minor": 5
}
