{
 "cells": [
  {
   "cell_type": "markdown",
   "id": "6ba545a4-1df6-4649-b34a-8f667ce8a505",
   "metadata": {},
   "source": [
    "Date - june 23, 2024 - day -05"
   ]
  },
  {
   "cell_type": "markdown",
   "id": "32851397-9794-4686-84db-a2147d5dd8fb",
   "metadata": {},
   "source": [
    "- TO DO : SWAPING OF TWO NUMBER"
   ]
  },
  {
   "cell_type": "code",
   "execution_count": 8,
   "id": "dcf29a1a-aa39-48b5-ac4c-dcc1da561c14",
   "metadata": {},
   "outputs": [
    {
     "name": "stdin",
     "output_type": "stream",
     "text": [
      "Enter first number -8\n",
      "Enter second number 4\n"
     ]
    },
    {
     "name": "stdout",
     "output_type": "stream",
     "text": [
      "value in first_number : -8\n",
      "value in second_number : 4\n",
      "After swapping\n",
      "value in first_number : 4\n",
      "value in second_number : -8\n"
     ]
    }
   ],
   "source": [
    "#CODE: using the third variable\n",
    "first_number = eval(input(\"Enter first number\"))\n",
    "second_number = eval(input(\"Enter second number\"))\n",
    "print(\"value in first_number : {}\".format(first_number))\n",
    "print(\"value in second_number : {}\".format(second_number))\n",
    "third_number = first_number\n",
    "first_number = second_number\n",
    "second_number = third_number\n",
    "print(\"After swapping\")\n",
    "print(\"value in first_number : {}\".format(first_number))\n",
    "print(\"value in second_number : {}\".format(second_number))\n"
   ]
  },
  {
   "cell_type": "code",
   "execution_count": 5,
   "id": "ea1efbd0-a392-4bd0-895e-659ce39e84cf",
   "metadata": {},
   "outputs": [
    {
     "name": "stdin",
     "output_type": "stream",
     "text": [
      "Enter fisrt number 14\n",
      "Enter second number 55\n"
     ]
    },
    {
     "name": "stdout",
     "output_type": "stream",
     "text": [
      "value in first_number : 14\n",
      "value in second_number : 55\n",
      "After swaping\n",
      "value in first_number : 55\n",
      "value in second_number : 14\n"
     ]
    }
   ],
   "source": [
    "#code using addition and subtraction\n",
    "first_number = eval(input(\"Enter first number\"))\n",
    "second_number = eval(input(\"Enter second number\"))\n",
    "print(\"value in first_number : {}\".format(first_number))\n",
    "print(\"value in second_number : {}\".format(second_number))\n",
    "first_number = first_number + second_number\n",
    "second_number = first_number - second_number\n",
    "first_number = first_number - second_number\n",
    "print(\"After swapping\")\n",
    "print(\"value in first_number : {}\".format(first_number))\n",
    "print(\"value in second_number : {}\".format(second_number))"
   ]
  },
  {
   "cell_type": "code",
   "execution_count": 7,
   "id": "1cc2c502-f81d-47f8-9e2d-a5b2095950a1",
   "metadata": {},
   "outputs": [
    {
     "name": "stdin",
     "output_type": "stream",
     "text": [
      "Enter fisrt number -12\n",
      "Enter second number 8\n"
     ]
    },
    {
     "name": "stdout",
     "output_type": "stream",
     "text": [
      "value in first_number : -12\n",
      "value in second_number : 8\n",
      "After swapping\n",
      "value in first_number : 8\n",
      "value in second_number : -12\n"
     ]
    }
   ],
   "source": [
    "#code using multiplication and division\n",
    "import math as m\n",
    "first_number = eval(input(\"Enter first number\"))\n",
    "second_number = eval(input(\"Enter second number\"))\n",
    "print(\"value in first_number : {}\".format(first_number))\n",
    "print(\"value in second_number : {}\".format(second_number))\n",
    "first_number = first_number*second_number\n",
    "second_number = first_number/second_number\n",
    "first_number = first_number/second_number\n",
    "first_number = m.floor(first_number)\n",
    "second_number = m.floor(second_number)\n",
    "print(\"After swapping\")\n",
    "print(\"value in first_number : {}\".format(first_number))\n",
    "print(\"value in second_number : {}\".format(second_number))"
   ]
  },
  {
   "cell_type": "code",
   "execution_count": null,
   "id": "5361fc96-ecb0-456d-9e3b-be20319fd17f",
   "metadata": {},
   "outputs": [],
   "source": []
  }
 ],
 "metadata": {
  "kernelspec": {
   "display_name": "Python 3 (ipykernel)",
   "language": "python",
   "name": "python3"
  },
  "language_info": {
   "codemirror_mode": {
    "name": "ipython",
    "version": 3
   },
   "file_extension": ".py",
   "mimetype": "text/x-python",
   "name": "python",
   "nbconvert_exporter": "python",
   "pygments_lexer": "ipython3",
   "version": "3.12.3"
  }
 },
 "nbformat": 4,
 "nbformat_minor": 5
}
