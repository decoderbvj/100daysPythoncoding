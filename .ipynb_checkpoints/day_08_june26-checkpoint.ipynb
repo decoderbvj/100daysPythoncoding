{
 "cells": [
  {
   "cell_type": "markdown",
   "id": "e53a227a-63b3-4feb-a2cd-7c13399492aa",
   "metadata": {},
   "source": [
    "- date : June 26, 2024\n",
    "- Day 08 of 100 day python coding chalange\n",
    "- "
   ]
  },
  {
   "cell_type": "code",
   "execution_count": 1,
   "id": "c51d1b98-9e84-440d-bc78-d2bbec04e409",
   "metadata": {},
   "outputs": [],
   "source": [
    "# to do : convert Celsiou To Farhenheit"
   ]
  },
  {
   "cell_type": "code",
   "execution_count": 2,
   "id": "46979475-02d6-45ff-b7a1-241d4184aa82",
   "metadata": {},
   "outputs": [
    {
     "name": "stdout",
     "output_type": "stream",
     "text": [
      "Collecting unit-convert\n",
      "  Downloading unit-convert-1.2.0.tar.gz (5.7 kB)\n",
      "  Preparing metadata (setup.py) ... \u001b[?25ldone\n",
      "\u001b[?25hBuilding wheels for collected packages: unit-convert\n",
      "  Building wheel for unit-convert (setup.py) ... \u001b[?25ldone\n",
      "\u001b[?25h  Created wheel for unit-convert: filename=unit_convert-1.2.0-py3-none-any.whl size=5674 sha256=9a5ba7a7570b922d4e1e8c1f70c784f991fc605383d2545d812db0406fb48f39\n",
      "  Stored in directory: /Users/bhairabjagat/Library/Caches/pip/wheels/8a/a9/bf/373fc65da6933322be7496088dc3890ec70437ca5a47f12eeb\n",
      "Successfully built unit-convert\n",
      "Installing collected packages: unit-convert\n",
      "Successfully installed unit-convert-1.2.0\n"
     ]
    }
   ],
   "source": [
    "!pip install unit-convert"
   ]
  },
  {
   "cell_type": "code",
   "execution_count": 3,
   "id": "349adf3f-5cbb-425b-90c6-fc41bf965b1b",
   "metadata": {},
   "outputs": [
    {
     "data": {
      "text/plain": [
       "['BaseError',\n",
       " 'ConversionError',\n",
       " 'ConversionValue',\n",
       " 'UnclearUnitTypeError',\n",
       " 'Unit',\n",
       " 'UnitConvert',\n",
       " '__builtins__',\n",
       " '__cached__',\n",
       " '__doc__',\n",
       " '__file__',\n",
       " '__loader__',\n",
       " '__name__',\n",
       " '__package__',\n",
       " '__spec__',\n",
       " '__version__',\n",
       " 'deepcopy',\n",
       " 'defaultdict',\n",
       " 'division',\n",
       " 'namedtuple']"
      ]
     },
     "execution_count": 3,
     "metadata": {},
     "output_type": "execute_result"
    }
   ],
   "source": [
    "import unit_convert\n",
    "dir(unit_convert)"
   ]
  },
  {
   "cell_type": "code",
   "execution_count": 4,
   "id": "eaef6207-69b8-40b6-9fce-b604c7aa9545",
   "metadata": {},
   "outputs": [
    {
     "data": {
      "text/plain": [
       "['Data',\n",
       " '__add__',\n",
       " '__class__',\n",
       " '__delattr__',\n",
       " '__dict__',\n",
       " '__dir__',\n",
       " '__doc__',\n",
       " '__eq__',\n",
       " '__floordiv__',\n",
       " '__format__',\n",
       " '__ge__',\n",
       " '__getattr__',\n",
       " '__getattribute__',\n",
       " '__getitem__',\n",
       " '__getstate__',\n",
       " '__gt__',\n",
       " '__hash__',\n",
       " '__init__',\n",
       " '__init_subclass__',\n",
       " '__iter__',\n",
       " '__le__',\n",
       " '__lt__',\n",
       " '__module__',\n",
       " '__mul__',\n",
       " '__ne__',\n",
       " '__new__',\n",
       " '__pow__',\n",
       " '__reduce__',\n",
       " '__reduce_ex__',\n",
       " '__repr__',\n",
       " '__rfloordiv__',\n",
       " '__rmul__',\n",
       " '__rpow__',\n",
       " '__rtruediv__',\n",
       " '__setattr__',\n",
       " '__sizeof__',\n",
       " '__str__',\n",
       " '__sub__',\n",
       " '__subclasshook__',\n",
       " '__truediv__',\n",
       " '__weakref__',\n",
       " '_get_possible_values',\n",
       " '_op',\n",
       " 'get',\n",
       " 'items',\n",
       " 'keys',\n",
       " 'values']"
      ]
     },
     "execution_count": 4,
     "metadata": {},
     "output_type": "execute_result"
    }
   ],
   "source": [
    "dir(unit_convert.UnitConvert)"
   ]
  },
  {
   "cell_type": "code",
   "execution_count": 6,
   "id": "22d6c455-9ac5-45ff-a974-13863254a400",
   "metadata": {},
   "outputs": [
    {
     "name": "stdout",
     "output_type": "stream",
     "text": [
      "Help on class UnitConvert in module unit_convert:\n",
      "\n",
      "class UnitConvert(builtins.object)\n",
      " |  UnitConvert(*args, **kwargs)\n",
      " |  \n",
      " |  Methods defined here:\n",
      " |  \n",
      " |  __add__(self, value)\n",
      " |      Add two UnitConvert instances together.\n",
      " |  \n",
      " |  __floordiv__(self, value)\n",
      " |      Divide all values by an amount.\n",
      " |  \n",
      " |  __getattr__(self, attr)\n",
      " |      Convert to an output value.\n",
      " |      \n",
      " |      This is left in for legacy purposes but `__getitem__` is\n",
      " |      recommended instead.\n",
      " |  \n",
      " |  __getitem__(self, unit_type)\n",
      " |      Convert to an output value.\n",
      " |      \n",
      " |      Raises:\n",
      " |          ConversionError: If unable to convert to the requested type.\n",
      " |          UnclearUnitTypeError: If there are more than one types to convert to\n",
      " |      \n",
      " |      Returns:\n",
      " |          Float value\n",
      " |  \n",
      " |  __init__(self, *args, **kwargs)\n",
      " |      Convert input kwargs into a sum of possible output values.\n",
      " |      \n",
      " |      It does this by keeping track of the possible \"types\" (eg. \"m\"\n",
      " |      can be metre or minute). By then providing another keyword such\n",
      " |      as \"cm\", it's obvious time is not intended.\n",
      " |      \n",
      " |      Multiple inputs of the same type will be added together.\n",
      " |      \n",
      " |      Args:\n",
      " |          Unit type followed by its size.\n",
      " |          Example: UnitConvert('bytes', 52, 'mb', 1)\n",
      " |      \n",
      " |      Kwargs:\n",
      " |          Unit types and their size.\n",
      " |          Example: UnitConvert(bytes=52, mb=1)\n",
      " |  \n",
      " |  __iter__(self)\n",
      " |      Iterate over all available unit types.\n",
      " |  \n",
      " |  __mul__(self, value)\n",
      " |      Multiply all values by an amount.\n",
      " |  \n",
      " |  __pow__(self, value)\n",
      " |      Raise all values to a power.\n",
      " |  \n",
      " |  __rfloordiv__(self, value)\n",
      " |      Divide all values by an amount.\n",
      " |  \n",
      " |  __rmul__ = __mul__(self, value)\n",
      " |  \n",
      " |  __rpow__(self, value)\n",
      " |      Raise a number to the power of all values.\n",
      " |  \n",
      " |  __rtruediv__(self, value)\n",
      " |      Divide all values by an amount.\n",
      " |  \n",
      " |  __sub__(self, value)\n",
      " |      Subtract one UnitConvert instance from another.\n",
      " |  \n",
      " |  __truediv__(self, value)\n",
      " |      Divide all values by an amount.\n",
      " |  \n",
      " |  get(self, item, default=None)\n",
      " |      Get a conversion if available or fallback to the default value.\n",
      " |  \n",
      " |  items(self)\n",
      " |      Return a mapping of unit types to values.\n",
      " |  \n",
      " |  keys(self)\n",
      " |      Return a list of all available unit types.\n",
      " |  \n",
      " |  values(self)\n",
      " |      Return a list of all available unit values.\n",
      " |      This includes ambiguous values where one key has multiple values.\n",
      " |  \n",
      " |  ----------------------------------------------------------------------\n",
      " |  Data descriptors defined here:\n",
      " |  \n",
      " |  __dict__\n",
      " |      dictionary for instance variables\n",
      " |  \n",
      " |  __weakref__\n",
      " |      list of weak references to the object\n",
      " |  \n",
      " |  ----------------------------------------------------------------------\n",
      " |  Data and other attributes defined here:\n",
      " |  \n",
      " |  Data = {'astronomical_units': {1: ConversionValue(value=149598550000, ...\n",
      "\n"
     ]
    }
   ],
   "source": [
    "from unit_convert import UnitConvert\n",
    "help(UnitConvert)"
   ]
  },
  {
   "cell_type": "code",
   "execution_count": 17,
   "id": "43679b44-9301-43ab-894c-73525b8f2be5",
   "metadata": {},
   "outputs": [
    {
     "name": "stdin",
     "output_type": "stream",
     "text": [
      "Enter the tempretue in celceous 1\n"
     ]
    },
    {
     "name": "stdout",
     "output_type": "stream",
     "text": [
      "1 ℃ C is equal to  f଀\n"
     ]
    }
   ],
   "source": [
    "import time\n",
    "tmep_c = eval(input(\"Enter the tempretue in celceous\"))\n",
    "time.sleep(2)\n",
    "f= tmep_c*33.8\n",
    "print(tmep_c,u\"\\u2103\", \"C is equal to \", u\"f\\u0B00\")"
   ]
  },
  {
   "cell_type": "code",
   "execution_count": 23,
   "id": "ddd5e200-620e-4517-9ef7-3c3c650cda97",
   "metadata": {},
   "outputs": [
    {
     "name": "stdout",
     "output_type": "stream",
     "text": [
      " 23° C\n"
     ]
    }
   ],
   "source": [
    "print(\"\",u\"23\\u00B0\",\"C\")"
   ]
  },
  {
   "cell_type": "code",
   "execution_count": 13,
   "id": "0518ec2e-15cc-4dce-b84c-1b7f2b578204",
   "metadata": {},
   "outputs": [],
   "source": [
    "#u\"\\u00B0\" is used to print the degee which is the unicode\n"
   ]
  },
  {
   "cell_type": "code",
   "execution_count": 20,
   "id": "11eeb395-a05a-4bee-907c-02fc4584fc16",
   "metadata": {},
   "outputs": [
    {
     "name": "stdout",
     "output_type": "stream",
     "text": [
      "℉\n"
     ]
    }
   ],
   "source": [
    "print(u\"\\u2109\")"
   ]
  },
  {
   "cell_type": "code",
   "execution_count": 21,
   "id": "ed5f117d-50c4-4523-9cb7-e57ffe4955e8",
   "metadata": {},
   "outputs": [
    {
     "name": "stdout",
     "output_type": "stream",
     "text": [
      "℃\n"
     ]
    }
   ],
   "source": [
    "print(u\"\\u2103\")"
   ]
  },
  {
   "cell_type": "code",
   "execution_count": 22,
   "id": "ba00ff94-42b9-4e5a-8e7e-af5f82b41bb2",
   "metadata": {},
   "outputs": [
    {
     "name": "stdout",
     "output_type": "stream",
     "text": [
      "˚\n"
     ]
    }
   ],
   "source": [
    "print(u\"\\u02DA\")"
   ]
  },
  {
   "cell_type": "code",
   "execution_count": null,
   "id": "cd5cdccd-d0bc-4560-adf7-f37ad6c385f0",
   "metadata": {},
   "outputs": [],
   "source": []
  }
 ],
 "metadata": {
  "kernelspec": {
   "display_name": "Python 3 (ipykernel)",
   "language": "python",
   "name": "python3"
  },
  "language_info": {
   "codemirror_mode": {
    "name": "ipython",
    "version": 3
   },
   "file_extension": ".py",
   "mimetype": "text/x-python",
   "name": "python",
   "nbconvert_exporter": "python",
   "pygments_lexer": "ipython3",
   "version": "3.11.7"
  }
 },
 "nbformat": 4,
 "nbformat_minor": 5
}
