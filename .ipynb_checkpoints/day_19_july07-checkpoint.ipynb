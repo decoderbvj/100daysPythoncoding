{
 "cells": [
  {
   "cell_type": "markdown",
   "id": "d69be95e-3d82-477c-b493-d3d8a7fc3937",
   "metadata": {},
   "source": [
    "- Date : - July 07, 2024\n",
    "- Day 19 of 100 days of python coding "
   ]
  },
  {
   "cell_type": "code",
   "execution_count": 4,
   "id": "a33f95bf-07e6-4524-a544-835f1c647888",
   "metadata": {},
   "outputs": [],
   "source": [
    "# ToDo - Find sum of natural no using recursion "
   ]
  },
  {
   "cell_type": "code",
   "execution_count": 54,
   "id": "ed70975d-0156-4704-a9a7-2f6869e2b61a",
   "metadata": {},
   "outputs": [],
   "source": [
    "# Code\n",
    "\n",
    "def findSum(sumof,number):\n",
    "    if number == 0: pass    \n",
    "    else : \n",
    "        sumof = sumof + number\n",
    "        number = number -1\n",
    "        sumof = findSum(sumof, number)\n",
    "    return sumof   \n",
    "    \n",
    "    \n",
    "def main():\n",
    "    num = eval(input(\"Enter the Natural No. serise last No. : \"))\n",
    "    sum_natural = findSum(sumof=0, number=num)\n",
    "    print(sum_natural)\n",
    "    \n",
    "    "
   ]
  },
  {
   "cell_type": "code",
   "execution_count": 58,
   "id": "155f0d08-d211-4231-b180-5c3e91dbe14f",
   "metadata": {},
   "outputs": [
    {
     "name": "stdin",
     "output_type": "stream",
     "text": [
      "Enter the Natural No. serise last No. :  12\n"
     ]
    },
    {
     "name": "stdout",
     "output_type": "stream",
     "text": [
      "78\n"
     ]
    }
   ],
   "source": [
    "main()\n"
   ]
  },
  {
   "cell_type": "code",
   "execution_count": null,
   "id": "c25389ac-dedb-4801-91c9-85dbc1abfd7b",
   "metadata": {},
   "outputs": [],
   "source": []
  }
 ],
 "metadata": {
  "kernelspec": {
   "display_name": "Python 3 (ipykernel)",
   "language": "python",
   "name": "python3"
  },
  "language_info": {
   "codemirror_mode": {
    "name": "ipython",
    "version": 3
   },
   "file_extension": ".py",
   "mimetype": "text/x-python",
   "name": "python",
   "nbconvert_exporter": "python",
   "pygments_lexer": "ipython3",
   "version": "3.12.4"
  }
 },
 "nbformat": 4,
 "nbformat_minor": 5
}
