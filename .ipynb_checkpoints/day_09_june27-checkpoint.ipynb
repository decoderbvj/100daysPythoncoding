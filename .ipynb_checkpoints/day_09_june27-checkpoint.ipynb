{
 "cells": [
  {
   "cell_type": "markdown",
   "id": "b9dc7631-06a9-4422-abd8-779d22964a93",
   "metadata": {},
   "source": [
    "- June 27, 2024\n",
    "- Day - 09 of 100 days of programming"
   ]
  },
  {
   "cell_type": "code",
   "execution_count": 1,
   "id": "0a4daf2a-6ba2-4b81-9f2a-3b97b8f458c7",
   "metadata": {},
   "outputs": [],
   "source": [
    "#Check if a Number is positive , Negetive or zero"
   ]
  },
  {
   "cell_type": "code",
   "execution_count": 7,
   "id": "5dadac3e-72da-44f6-a6e1-5b0cf1fdd6bc",
   "metadata": {},
   "outputs": [
    {
     "name": "stdin",
     "output_type": "stream",
     "text": [
      "Enter a no  -2\n"
     ]
    },
    {
     "name": "stdout",
     "output_type": "stream",
     "text": [
      "Number is -ve\n"
     ]
    }
   ],
   "source": [
    "number = eval(input(\"Enter a no \"))\n",
    "if number > 0: print(\"Number is positive\")\n",
    "elif number < 0 : print(\"Number is -ve\")\n",
    "else : print(\"Number is zero\")"
   ]
  },
  {
   "cell_type": "code",
   "execution_count": null,
   "id": "5578aeb5-5791-4d71-9a90-8d7d1c431e7a",
   "metadata": {},
   "outputs": [],
   "source": []
  }
 ],
 "metadata": {
  "kernelspec": {
   "display_name": "Python 3 (ipykernel)",
   "language": "python",
   "name": "python3"
  },
  "language_info": {
   "codemirror_mode": {
    "name": "ipython",
    "version": 3
   },
   "file_extension": ".py",
   "mimetype": "text/x-python",
   "name": "python",
   "nbconvert_exporter": "python",
   "pygments_lexer": "ipython3",
   "version": "3.11.7"
  }
 },
 "nbformat": 4,
 "nbformat_minor": 5
}
