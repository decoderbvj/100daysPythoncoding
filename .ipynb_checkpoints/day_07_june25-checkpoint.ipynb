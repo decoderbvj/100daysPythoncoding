{
 "cells": [
  {
   "cell_type": "markdown",
   "id": "2f05a8a7-155b-4e57-8405-8d0b7f49e616",
   "metadata": {},
   "source": [
    "- Date : June 25 , 2024\n",
    "- Day : day 07\n",
    "- To Do : to generate a random no . "
   ]
  },
  {
   "cell_type": "code",
   "execution_count": 1,
   "id": "adf8ba25-9a61-4074-b967-22041ebb877f",
   "metadata": {},
   "outputs": [],
   "source": [
    "# for achieveing this we have to import random package or module"
   ]
  },
  {
   "cell_type": "code",
   "execution_count": 2,
   "id": "300f96b3-e416-4f7d-8e1d-b656e2cd037a",
   "metadata": {},
   "outputs": [],
   "source": [
    "import random"
   ]
  },
  {
   "cell_type": "code",
   "execution_count": 3,
   "id": "728d4a1e-067c-4495-a36a-f6f10363fbc9",
   "metadata": {},
   "outputs": [
    {
     "name": "stdout",
     "output_type": "stream",
     "text": [
      "['BPF', 'LOG4', 'NV_MAGICCONST', 'RECIP_BPF', 'Random', 'SG_MAGICCONST', 'SystemRandom', 'TWOPI', '_ONE', '_Sequence', '__all__', '__builtins__', '__cached__', '__doc__', '__file__', '__loader__', '__name__', '__package__', '__spec__', '_accumulate', '_acos', '_bisect', '_ceil', '_cos', '_e', '_exp', '_fabs', '_floor', '_index', '_inst', '_isfinite', '_lgamma', '_log', '_log2', '_os', '_pi', '_random', '_repeat', '_sha512', '_sin', '_sqrt', '_test', '_test_generator', '_urandom', '_warn', 'betavariate', 'binomialvariate', 'choice', 'choices', 'expovariate', 'gammavariate', 'gauss', 'getrandbits', 'getstate', 'lognormvariate', 'normalvariate', 'paretovariate', 'randbytes', 'randint', 'random', 'randrange', 'sample', 'seed', 'setstate', 'shuffle', 'triangular', 'uniform', 'vonmisesvariate', 'weibullvariate']\n"
     ]
    }
   ],
   "source": [
    "print(dir(random))"
   ]
  },
  {
   "cell_type": "code",
   "execution_count": 4,
   "id": "6b3f673c-3186-4dd5-9f94-42dc44e138a6",
   "metadata": {},
   "outputs": [
    {
     "name": "stdout",
     "output_type": "stream",
     "text": [
      "Help on method randbytes in module random:\n",
      "\n",
      "randbytes(n) method of random.Random instance\n",
      "    Generate n random bytes.\n",
      "\n",
      "None\n"
     ]
    }
   ],
   "source": [
    "print(help(random.randbytes))\n"
   ]
  },
  {
   "cell_type": "code",
   "execution_count": 5,
   "id": "94d8ac68-4f5e-48f1-becf-c0b3f394563e",
   "metadata": {},
   "outputs": [
    {
     "ename": "TypeError",
     "evalue": "Random.randbytes() missing 1 required positional argument: 'n'",
     "output_type": "error",
     "traceback": [
      "\u001b[0;31m---------------------------------------------------------------------------\u001b[0m",
      "\u001b[0;31mTypeError\u001b[0m                                 Traceback (most recent call last)",
      "Cell \u001b[0;32mIn[5], line 1\u001b[0m\n\u001b[0;32m----> 1\u001b[0m random_bytes_value \u001b[38;5;241m=\u001b[39m \u001b[43mrandom\u001b[49m\u001b[38;5;241;43m.\u001b[39;49m\u001b[43mrandbytes\u001b[49m\u001b[43m(\u001b[49m\u001b[43m)\u001b[49m\n\u001b[1;32m      2\u001b[0m \u001b[38;5;28mprint\u001b[39m(random_bytes_value, \u001b[38;5;28mtype\u001b[39m(random_bytes_value))\n",
      "\u001b[0;31mTypeError\u001b[0m: Random.randbytes() missing 1 required positional argument: 'n'"
     ]
    }
   ],
   "source": [
    "random_bytes_value = random.randbytes()\n",
    "print(random_bytes_value, type(random_bytes_value))"
   ]
  },
  {
   "cell_type": "code",
   "execution_count": 6,
   "id": "35e94281-1212-43d4-af52-e4c97f1c7204",
   "metadata": {},
   "outputs": [],
   "source": [
    "# as do not provide any agguments . it takes only positive the intergral value"
   ]
  },
  {
   "cell_type": "code",
   "execution_count": 7,
   "id": "1605e392-4547-4cff-8150-83c7d0be22e3",
   "metadata": {},
   "outputs": [
    {
     "name": "stdout",
     "output_type": "stream",
     "text": [
      "b'' <class 'bytes'>\n"
     ]
    }
   ],
   "source": [
    "random_bytes_value = random.randbytes(0)\n",
    "print(random_bytes_value, type(random_bytes_value))"
   ]
  },
  {
   "cell_type": "code",
   "execution_count": 8,
   "id": "e69e22b1-288d-44c3-9236-5148b3e11cb2",
   "metadata": {},
   "outputs": [
    {
     "name": "stdout",
     "output_type": "stream",
     "text": [
      "b\";=Y\\xad\\x19\\x95\\xfb\\xb5\\x9e\\xcc7r\\xa5\\xb9\\xc8\\x16\\n0\\x07&\\x01\\xaa\\xd0\\x11k8\\x8ej\\xba\\x87ea3\\x1bt\\xddD\\xbb }\\x1bA\\xea\\x10\\xda\\xa3\\x97\\xe9#\\xab\\x06\\x80`\\x00\\xc0a\\xbf\\xb6\\xee\\xf6\\xe7\\x13\\xc3\\xb3\\x0f\\xad\\x08s\\x93\\xddU}7F\\xa3\\xb0\\x1e\\xcep\\xfe\\xd6\\x82\\xd1\\x11\\xa5\\tW]\\xf5\\x8d\\x0e\\xa2\\x1d\\x16Ib\\xda\\xc4\\x18k\\xfce\\x03\\xa4\\xdaZj\\x8a\\x0c\\xf2\\xb1\\xaeT\\x9dAd\\x8fxH\\x02$B\\xd0m\\x13P\\x1f\\xfe<\\xab\\x92\\xd2\\xd1\\xd0\\xab\\xacE\\xb7tX\\x93$\\x00\\rN\\x8c\\xad\\xb6\\x0b\\x13\\x03\\xce7U\\xc6\\xe3\\xa7\\x86&\\t\\x15\\xcd+P:\\x1d\\xbb\\x1e\\xcd\\x8dW\\x81u\\xdd\\xf3i_\\x95z\\xd6\\xf4NP>X.\\xaaq\\x03\\xd4r'\\xafpX\\x90\\xae\\xc9\\xd7\\xb1\\x9eMb\\xf5\\xb7e\\x8bH\\x85lb\\xadC\\x80\\xd9\\xa3Fr\\x8bP\\xf8M\\xab\\xab*Q\\x03\\x8c,\\x01UV\\x9e\\x02\\xd6\\x18\\xc6\\xebp\\xb1\\xc3\\xca\\x0eC\\xf9\\xd4\\xd7\\xdb4`\\x08\\xacN2G\" <class 'bytes'>\n"
     ]
    }
   ],
   "source": [
    "random_bytes_value = random.randbytes(255)\n",
    "print(random_bytes_value, type(random_bytes_value))"
   ]
  },
  {
   "cell_type": "code",
   "execution_count": 9,
   "id": "75228f20-2a08-4dd2-a3e8-bcbf37d17fd2",
   "metadata": {},
   "outputs": [
    {
     "name": "stdout",
     "output_type": "stream",
     "text": [
      "b'\\xc0\\xceb\\xfdB\\xa2O7)\\x9c' <class 'bytes'>\n"
     ]
    }
   ],
   "source": [
    "random_bytes_value = random.randbytes(10)\n",
    "print(random_bytes_value, type(random_bytes_value))"
   ]
  },
  {
   "cell_type": "code",
   "execution_count": 11,
   "id": "21ec86c0-9722-43a8-a61f-fedc37e9f532",
   "metadata": {},
   "outputs": [
    {
     "name": "stdout",
     "output_type": "stream",
     "text": [
      "192 206 98 253 66 162 79 55 41 156 "
     ]
    }
   ],
   "source": [
    "# traversing the values\n",
    "for value in random_bytes_value:\n",
    "    print(value, end=\" \")"
   ]
  },
  {
   "cell_type": "code",
   "execution_count": 14,
   "id": "aee1c444-a80a-4867-a0a8-a713eb88db22",
   "metadata": {},
   "outputs": [
    {
     "ename": "ValueError",
     "evalue": "number of bits must be non-negative",
     "output_type": "error",
     "traceback": [
      "\u001b[0;31m---------------------------------------------------------------------------\u001b[0m",
      "\u001b[0;31mValueError\u001b[0m                                Traceback (most recent call last)",
      "Cell \u001b[0;32mIn[14], line 1\u001b[0m\n\u001b[0;32m----> 1\u001b[0m random_bytes_value \u001b[38;5;241m=\u001b[39m \u001b[43mrandom\u001b[49m\u001b[38;5;241;43m.\u001b[39;49m\u001b[43mrandbytes\u001b[49m\u001b[43m(\u001b[49m\u001b[38;5;241;43m-\u001b[39;49m\u001b[38;5;241;43m10\u001b[39;49m\u001b[43m)\u001b[49m\n\u001b[1;32m      2\u001b[0m \u001b[38;5;28mprint\u001b[39m(random_bytes_value, \u001b[38;5;28mtype\u001b[39m(random_bytes_value))\n",
      "File \u001b[0;32m/Library/Frameworks/Python.framework/Versions/3.12/lib/python3.12/random.py:286\u001b[0m, in \u001b[0;36mRandom.randbytes\u001b[0;34m(self, n)\u001b[0m\n\u001b[1;32m    284\u001b[0m \u001b[38;5;28;01mdef\u001b[39;00m \u001b[38;5;21mrandbytes\u001b[39m(\u001b[38;5;28mself\u001b[39m, n):\n\u001b[1;32m    285\u001b[0m \u001b[38;5;250m    \u001b[39m\u001b[38;5;124;03m\"\"\"Generate n random bytes.\"\"\"\u001b[39;00m\n\u001b[0;32m--> 286\u001b[0m     \u001b[38;5;28;01mreturn\u001b[39;00m \u001b[38;5;28;43mself\u001b[39;49m\u001b[38;5;241;43m.\u001b[39;49m\u001b[43mgetrandbits\u001b[49m\u001b[43m(\u001b[49m\u001b[43mn\u001b[49m\u001b[43m \u001b[49m\u001b[38;5;241;43m*\u001b[39;49m\u001b[43m \u001b[49m\u001b[38;5;241;43m8\u001b[39;49m\u001b[43m)\u001b[49m\u001b[38;5;241m.\u001b[39mto_bytes(n, \u001b[38;5;124m'\u001b[39m\u001b[38;5;124mlittle\u001b[39m\u001b[38;5;124m'\u001b[39m)\n",
      "\u001b[0;31mValueError\u001b[0m: number of bits must be non-negative"
     ]
    }
   ],
   "source": [
    "random_bytes_value = random.randbytes(-10)\n",
    "print(random_bytes_value, type(random_bytes_value))"
   ]
  },
  {
   "cell_type": "code",
   "execution_count": 15,
   "id": "a84b76b3-ab17-4abf-8c65-0e06b575f9b9",
   "metadata": {},
   "outputs": [
    {
     "ename": "TypeError",
     "evalue": "'float' object cannot be interpreted as an integer",
     "output_type": "error",
     "traceback": [
      "\u001b[0;31m---------------------------------------------------------------------------\u001b[0m",
      "\u001b[0;31mTypeError\u001b[0m                                 Traceback (most recent call last)",
      "Cell \u001b[0;32mIn[15], line 1\u001b[0m\n\u001b[0;32m----> 1\u001b[0m random_bytes_value \u001b[38;5;241m=\u001b[39m \u001b[43mrandom\u001b[49m\u001b[38;5;241;43m.\u001b[39;49m\u001b[43mrandbytes\u001b[49m\u001b[43m(\u001b[49m\u001b[38;5;241;43m5.5\u001b[39;49m\u001b[43m)\u001b[49m\n\u001b[1;32m      2\u001b[0m \u001b[38;5;28mprint\u001b[39m(random_bytes_value, \u001b[38;5;28mtype\u001b[39m(random_bytes_value))\n",
      "File \u001b[0;32m/Library/Frameworks/Python.framework/Versions/3.12/lib/python3.12/random.py:286\u001b[0m, in \u001b[0;36mRandom.randbytes\u001b[0;34m(self, n)\u001b[0m\n\u001b[1;32m    284\u001b[0m \u001b[38;5;28;01mdef\u001b[39;00m \u001b[38;5;21mrandbytes\u001b[39m(\u001b[38;5;28mself\u001b[39m, n):\n\u001b[1;32m    285\u001b[0m \u001b[38;5;250m    \u001b[39m\u001b[38;5;124;03m\"\"\"Generate n random bytes.\"\"\"\u001b[39;00m\n\u001b[0;32m--> 286\u001b[0m     \u001b[38;5;28;01mreturn\u001b[39;00m \u001b[38;5;28;43mself\u001b[39;49m\u001b[38;5;241;43m.\u001b[39;49m\u001b[43mgetrandbits\u001b[49m\u001b[43m(\u001b[49m\u001b[43mn\u001b[49m\u001b[43m \u001b[49m\u001b[38;5;241;43m*\u001b[39;49m\u001b[43m \u001b[49m\u001b[38;5;241;43m8\u001b[39;49m\u001b[43m)\u001b[49m\u001b[38;5;241m.\u001b[39mto_bytes(n, \u001b[38;5;124m'\u001b[39m\u001b[38;5;124mlittle\u001b[39m\u001b[38;5;124m'\u001b[39m)\n",
      "\u001b[0;31mTypeError\u001b[0m: 'float' object cannot be interpreted as an integer"
     ]
    }
   ],
   "source": [
    "random_bytes_value = random.randbytes(5.5)\n",
    "print(random_bytes_value, type(random_bytes_value))"
   ]
  },
  {
   "cell_type": "code",
   "execution_count": 16,
   "id": "47aa942a-11a8-4902-9400-08b176ec61aa",
   "metadata": {},
   "outputs": [
    {
     "ename": "TypeError",
     "evalue": "'complex' object cannot be interpreted as an integer",
     "output_type": "error",
     "traceback": [
      "\u001b[0;31m---------------------------------------------------------------------------\u001b[0m",
      "\u001b[0;31mTypeError\u001b[0m                                 Traceback (most recent call last)",
      "Cell \u001b[0;32mIn[16], line 1\u001b[0m\n\u001b[0;32m----> 1\u001b[0m random_bytes_value \u001b[38;5;241m=\u001b[39m \u001b[43mrandom\u001b[49m\u001b[38;5;241;43m.\u001b[39;49m\u001b[43mrandbytes\u001b[49m\u001b[43m(\u001b[49m\u001b[38;5;241;43m3\u001b[39;49m\u001b[38;5;241;43m+\u001b[39;49m\u001b[38;5;241;43m0\u001b[39;49m\u001b[43mj\u001b[49m\u001b[43m)\u001b[49m\n\u001b[1;32m      2\u001b[0m \u001b[38;5;28mprint\u001b[39m(random_bytes_value, \u001b[38;5;28mtype\u001b[39m(random_bytes_value))\n",
      "File \u001b[0;32m/Library/Frameworks/Python.framework/Versions/3.12/lib/python3.12/random.py:286\u001b[0m, in \u001b[0;36mRandom.randbytes\u001b[0;34m(self, n)\u001b[0m\n\u001b[1;32m    284\u001b[0m \u001b[38;5;28;01mdef\u001b[39;00m \u001b[38;5;21mrandbytes\u001b[39m(\u001b[38;5;28mself\u001b[39m, n):\n\u001b[1;32m    285\u001b[0m \u001b[38;5;250m    \u001b[39m\u001b[38;5;124;03m\"\"\"Generate n random bytes.\"\"\"\u001b[39;00m\n\u001b[0;32m--> 286\u001b[0m     \u001b[38;5;28;01mreturn\u001b[39;00m \u001b[38;5;28;43mself\u001b[39;49m\u001b[38;5;241;43m.\u001b[39;49m\u001b[43mgetrandbits\u001b[49m\u001b[43m(\u001b[49m\u001b[43mn\u001b[49m\u001b[43m \u001b[49m\u001b[38;5;241;43m*\u001b[39;49m\u001b[43m \u001b[49m\u001b[38;5;241;43m8\u001b[39;49m\u001b[43m)\u001b[49m\u001b[38;5;241m.\u001b[39mto_bytes(n, \u001b[38;5;124m'\u001b[39m\u001b[38;5;124mlittle\u001b[39m\u001b[38;5;124m'\u001b[39m)\n",
      "\u001b[0;31mTypeError\u001b[0m: 'complex' object cannot be interpreted as an integer"
     ]
    }
   ],
   "source": [
    "random_bytes_value = random.randbytes(3+0j)\n",
    "print(random_bytes_value, type(random_bytes_value))"
   ]
  },
  {
   "cell_type": "raw",
   "id": "f0bbe086-98ef-40b7-ac22-0fb91c6975c6",
   "metadata": {},
   "source": [
    "# randbytes90 function generate the number of bytes random data as per the input argument"
   ]
  },
  {
   "cell_type": "code",
   "execution_count": 17,
   "id": "c0229652-0cfb-4e16-b244-c0c674f0861c",
   "metadata": {},
   "outputs": [
    {
     "name": "stdout",
     "output_type": "stream",
     "text": [
      "b'\\x1bt\\xcdk\\xb9' <class 'bytes'>\n",
      "5\n"
     ]
    }
   ],
   "source": [
    "random_bytes_value = random.randbytes(5)\n",
    "print(random_bytes_value, type(random_bytes_value))\n",
    "print(len(random_bytes_value))"
   ]
  },
  {
   "cell_type": "code",
   "execution_count": 18,
   "id": "aef27893-7aec-4cf8-8e48-c1ee8f3e2436",
   "metadata": {},
   "outputs": [
    {
     "ename": "TypeError",
     "evalue": "Random.randint() missing 1 required positional argument: 'b'",
     "output_type": "error",
     "traceback": [
      "\u001b[0;31m---------------------------------------------------------------------------\u001b[0m",
      "\u001b[0;31mTypeError\u001b[0m                                 Traceback (most recent call last)",
      "Cell \u001b[0;32mIn[18], line 1\u001b[0m\n\u001b[0;32m----> 1\u001b[0m random_no \u001b[38;5;241m=\u001b[39m \u001b[43mrandom\u001b[49m\u001b[38;5;241;43m.\u001b[39;49m\u001b[43mrandint\u001b[49m\u001b[43m(\u001b[49m\u001b[38;5;241;43m10\u001b[39;49m\u001b[43m)\u001b[49m\n",
      "\u001b[0;31mTypeError\u001b[0m: Random.randint() missing 1 required positional argument: 'b'"
     ]
    }
   ],
   "source": [
    "random_no = random.randint(10)"
   ]
  },
  {
   "cell_type": "code",
   "execution_count": 19,
   "id": "0d94ad12-8ecc-444f-a033-47f1643c63d4",
   "metadata": {},
   "outputs": [
    {
     "name": "stdout",
     "output_type": "stream",
     "text": [
      "Help on method randint in module random:\n",
      "\n",
      "randint(a, b) method of random.Random instance\n",
      "    Return random integer in range [a, b], including both end points.\n",
      "\n"
     ]
    }
   ],
   "source": [
    "help(random.randint)"
   ]
  },
  {
   "cell_type": "code",
   "execution_count": 20,
   "id": "920083be-1f81-4dec-b3db-67f42bc88634",
   "metadata": {},
   "outputs": [
    {
     "name": "stdout",
     "output_type": "stream",
     "text": [
      "10 <class 'int'>\n"
     ]
    }
   ],
   "source": [
    "random_no = random.randint(10, 12)\n",
    "print(random_no, type(random_no))"
   ]
  },
  {
   "cell_type": "code",
   "execution_count": 21,
   "id": "ccd74b9d-c9e6-4a2e-813b-7084a9473d49",
   "metadata": {},
   "outputs": [
    {
     "name": "stdout",
     "output_type": "stream",
     "text": [
      "Help on built-in function random:\n",
      "\n",
      "random() method of random.Random instance\n",
      "    random() -> x in the interval [0, 1).\n",
      "\n"
     ]
    }
   ],
   "source": [
    "help(random.random)"
   ]
  },
  {
   "cell_type": "code",
   "execution_count": 22,
   "id": "9bd9b035-d119-4646-99d8-018ba1ee952a",
   "metadata": {},
   "outputs": [
    {
     "name": "stdout",
     "output_type": "stream",
     "text": [
      "0.454747713036572 <class 'float'>\n"
     ]
    }
   ],
   "source": [
    "random_no = random.random()\n",
    "print(random_no, type(random_no))"
   ]
  },
  {
   "cell_type": "code",
   "execution_count": 23,
   "id": "05d9a87f-7f68-4c66-87a4-f61701bef3b9",
   "metadata": {},
   "outputs": [
    {
     "name": "stdout",
     "output_type": "stream",
     "text": [
      "Help on method randrange in module random:\n",
      "\n",
      "randrange(start, stop=None, step=1) method of random.Random instance\n",
      "    Choose a random item from range(stop) or range(start, stop[, step]).\n",
      "\n",
      "    Roughly equivalent to ``choice(range(start, stop, step))`` but\n",
      "    supports arbitrarily large ranges and is optimized for common cases.\n",
      "\n"
     ]
    }
   ],
   "source": [
    "help(random.randrange)"
   ]
  },
  {
   "cell_type": "code",
   "execution_count": 24,
   "id": "e1fe1e77-163f-4239-9485-2d69bd02e188",
   "metadata": {},
   "outputs": [
    {
     "name": "stdout",
     "output_type": "stream",
     "text": [
      "13 <class 'int'>\n"
     ]
    }
   ],
   "source": [
    "random_no = random.randrange(10,15)\n",
    "print(random_no, type(random_no))"
   ]
  },
  {
   "cell_type": "code",
   "execution_count": 25,
   "id": "a8fa70b3-0190-40c1-a078-f2c379ba24bb",
   "metadata": {},
   "outputs": [
    {
     "name": "stdout",
     "output_type": "stream",
     "text": [
      "12 <class 'int'>\n"
     ]
    }
   ],
   "source": [
    "random_no = random.randrange(10,15,2)\n",
    "print(random_no, type(random_no))"
   ]
  },
  {
   "cell_type": "code",
   "execution_count": 26,
   "id": "f4f5c43e-ce5c-49aa-9e3f-7f06e761358a",
   "metadata": {},
   "outputs": [
    {
     "ename": "ValueError",
     "evalue": "empty range in randrange(10, 15, -3)",
     "output_type": "error",
     "traceback": [
      "\u001b[0;31m---------------------------------------------------------------------------\u001b[0m",
      "\u001b[0;31mValueError\u001b[0m                                Traceback (most recent call last)",
      "Cell \u001b[0;32mIn[26], line 1\u001b[0m\n\u001b[0;32m----> 1\u001b[0m random_no \u001b[38;5;241m=\u001b[39m \u001b[43mrandom\u001b[49m\u001b[38;5;241;43m.\u001b[39;49m\u001b[43mrandrange\u001b[49m\u001b[43m(\u001b[49m\u001b[38;5;241;43m10\u001b[39;49m\u001b[43m,\u001b[49m\u001b[38;5;241;43m15\u001b[39;49m\u001b[43m,\u001b[49m\u001b[38;5;241;43m-\u001b[39;49m\u001b[38;5;241;43m3\u001b[39;49m\u001b[43m)\u001b[49m\n\u001b[1;32m      2\u001b[0m \u001b[38;5;28mprint\u001b[39m(random_no, \u001b[38;5;28mtype\u001b[39m(random_no))\n",
      "File \u001b[0;32m/Library/Frameworks/Python.framework/Versions/3.12/lib/python3.12/random.py:329\u001b[0m, in \u001b[0;36mRandom.randrange\u001b[0;34m(self, start, stop, step)\u001b[0m\n\u001b[1;32m    327\u001b[0m     \u001b[38;5;28;01mraise\u001b[39;00m \u001b[38;5;167;01mValueError\u001b[39;00m(\u001b[38;5;124m\"\u001b[39m\u001b[38;5;124mzero step for randrange()\u001b[39m\u001b[38;5;124m\"\u001b[39m)\n\u001b[1;32m    328\u001b[0m \u001b[38;5;28;01mif\u001b[39;00m n \u001b[38;5;241m<\u001b[39m\u001b[38;5;241m=\u001b[39m \u001b[38;5;241m0\u001b[39m:\n\u001b[0;32m--> 329\u001b[0m     \u001b[38;5;28;01mraise\u001b[39;00m \u001b[38;5;167;01mValueError\u001b[39;00m(\u001b[38;5;124mf\u001b[39m\u001b[38;5;124m\"\u001b[39m\u001b[38;5;124mempty range in randrange(\u001b[39m\u001b[38;5;132;01m{\u001b[39;00mstart\u001b[38;5;132;01m}\u001b[39;00m\u001b[38;5;124m, \u001b[39m\u001b[38;5;132;01m{\u001b[39;00mstop\u001b[38;5;132;01m}\u001b[39;00m\u001b[38;5;124m, \u001b[39m\u001b[38;5;132;01m{\u001b[39;00mstep\u001b[38;5;132;01m}\u001b[39;00m\u001b[38;5;124m)\u001b[39m\u001b[38;5;124m\"\u001b[39m)\n\u001b[1;32m    330\u001b[0m \u001b[38;5;28;01mreturn\u001b[39;00m istart \u001b[38;5;241m+\u001b[39m istep \u001b[38;5;241m*\u001b[39m \u001b[38;5;28mself\u001b[39m\u001b[38;5;241m.\u001b[39m_randbelow(n)\n",
      "\u001b[0;31mValueError\u001b[0m: empty range in randrange(10, 15, -3)"
     ]
    }
   ],
   "source": [
    "random_no = random.randrange(10,15,-3)\n",
    "print(random_no, type(random_no))"
   ]
  },
  {
   "cell_type": "code",
   "execution_count": 27,
   "id": "8387aebe-a7a3-423e-a44e-79b9e2921647",
   "metadata": {},
   "outputs": [
    {
     "name": "stdout",
     "output_type": "stream",
     "text": [
      "10 <class 'int'>\n"
     ]
    }
   ],
   "source": [
    "random_no = random.randrange(10,15,3)\n",
    "print(random_no, type(random_no))"
   ]
  },
  {
   "cell_type": "code",
   "execution_count": null,
   "id": "ee3bdc81-27c9-44a8-b090-4446b845bd23",
   "metadata": {},
   "outputs": [],
   "source": []
  }
 ],
 "metadata": {
  "kernelspec": {
   "display_name": "Python 3 (ipykernel)",
   "language": "python",
   "name": "python3"
  },
  "language_info": {
   "codemirror_mode": {
    "name": "ipython",
    "version": 3
   },
   "file_extension": ".py",
   "mimetype": "text/x-python",
   "name": "python",
   "nbconvert_exporter": "python",
   "pygments_lexer": "ipython3",
   "version": "3.12.3"
  }
 },
 "nbformat": 4,
 "nbformat_minor": 5
}
