{
 "cells": [
  {
   "cell_type": "markdown",
   "id": "23e33f89-aab7-4663-9867-87d6254bf5cb",
   "metadata": {},
   "source": [
    "- Date - July 09, 2024\n",
    "- Days 21 of 100 days python programming"
   ]
  },
  {
   "cell_type": "code",
   "execution_count": 2,
   "id": "dc1365c2-fcfb-4406-9837-dba688ab269a",
   "metadata": {},
   "outputs": [],
   "source": [
    "#Find factorial of number using recursion "
   ]
  },
  {
   "cell_type": "code",
   "execution_count": 26,
   "id": "b30c1e11-8ddd-4346-965f-ef439755eafb",
   "metadata": {},
   "outputs": [],
   "source": [
    "#Code:\n",
    "def findFactorial(number):\n",
    "    if number == 0 : \n",
    "        return 1\n",
    "    return  number * findFactorial(number -1)\n",
    "def main():\n",
    "    fact_no = findFactorial(5)\n",
    "    print(fact_no)"
   ]
  },
  {
   "cell_type": "code",
   "execution_count": 28,
   "id": "1482df1e-781f-4e1d-a1cc-23a8d5afee78",
   "metadata": {},
   "outputs": [
    {
     "name": "stdout",
     "output_type": "stream",
     "text": [
      "120\n"
     ]
    }
   ],
   "source": [
    "main()"
   ]
  },
  {
   "cell_type": "code",
   "execution_count": 34,
   "id": "81885af4-892f-4652-b2f7-11d9ba32889d",
   "metadata": {},
   "outputs": [
    {
     "name": "stdout",
     "output_type": "stream",
     "text": [
      "1\n",
      "2\n",
      "3\n",
      "4\n",
      "5\n",
      "6\n",
      "7\n",
      "8\n",
      "9\n",
      "10\n"
     ]
    }
   ],
   "source": [
    "# print 1 to 10 using recursion\n",
    "def printNo(number):\n",
    "    if number == 10 : return 10\n",
    "    print(number)\n",
    "    return printNo(number+1)\n",
    "print(printNo(1))"
   ]
  },
  {
   "cell_type": "code",
   "execution_count": 54,
   "id": "eeb732bd-63a4-4fd0-a02d-3ceac35a0aa4",
   "metadata": {},
   "outputs": [
    {
     "name": "stdout",
     "output_type": "stream",
     "text": [
      "10,11,12,13,14,15,16,17,18,19,20,21,22,23,24,25,"
     ]
    }
   ],
   "source": [
    "# print 10 to 25 using recursion \n",
    "def printNumber(number):\n",
    "    if number > 25: return\n",
    "    print(number,end=\",\")\n",
    "    return printNumber(number+1)\n",
    "printNumber(10)"
   ]
  },
  {
   "cell_type": "code",
   "execution_count": null,
   "id": "92086e66-8d66-4ff8-8104-bd08f47bde6f",
   "metadata": {},
   "outputs": [],
   "source": []
  }
 ],
 "metadata": {
  "kernelspec": {
   "display_name": "Python 3 (ipykernel)",
   "language": "python",
   "name": "python3"
  },
  "language_info": {
   "codemirror_mode": {
    "name": "ipython",
    "version": 3
   },
   "file_extension": ".py",
   "mimetype": "text/x-python",
   "name": "python",
   "nbconvert_exporter": "python",
   "pygments_lexer": "ipython3",
   "version": "3.12.4"
  }
 },
 "nbformat": 4,
 "nbformat_minor": 5
}
