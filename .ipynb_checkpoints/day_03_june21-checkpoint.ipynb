{
 "cells": [
  {
   "cell_type": "markdown",
   "id": "c66639b2-fe3c-4504-a41c-1e6eef4cbc74",
   "metadata": {},
   "source": [
    "- Date : june 21, 2024\n",
    "- On my birthday I take an oath that I will do Python programming on daily baisis for 100 days.\n",
    "- accpet the challenge to code for 100 days and commit the same in the github repository."
   ]
  },
  {
   "cell_type": "markdown",
   "id": "db7cef07-4cc5-4f9b-8461-045d3fe4bc0b",
   "metadata": {},
   "source": [
    "#### TO DO:\n",
    "- to calculate the area of a triangle"
   ]
  },
  {
   "cell_type": "markdown",
   "id": "1cfdb9a3-703f-48e4-ba6e-85e30842a8d9",
   "metadata": {},
   "source": [
    "- **Concept**\n",
    "- 1. When the length of triangle base and hight of the triangle is given\n",
    "  2. Formula for calculating the area of trinagel = (base X height)/2\n",
    "     "
   ]
  },
  {
   "cell_type": "code",
   "execution_count": 9,
   "id": "86b9756c-d140-430f-8e91-03cf231cf1ad",
   "metadata": {},
   "outputs": [
    {
     "data": {
      "text/plain": [
       "'\\nlogic of this code  \\n1. here i have taken unit_measure to hold the unit of measurement\\n\\n2. take two varible base_measure and height_measure to store the base and height length of the triangle\\n3. print to ask user to provide the unit of measurement along with base and height of the triangle \\n4. convert base_measure height_measure str value into the int variable base and height \\n5. calculate the area of the triangle by using the formula: area of triangle = 1/2 X(Base X Height)\\n6. Show the result \\n'"
      ]
     },
     "execution_count": 9,
     "metadata": {},
     "output_type": "execute_result"
    }
   ],
   "source": [
    "\"\"\"\n",
    "logic of this code  \n",
    "1. here i have taken unit_measure to hold the unit of measurement\\n\n",
    "2. take two varible base_measure and height_measure to store the base and height length of the triangle\n",
    "3. print to ask user to provide the unit of measurement along with base and height of the triangle \n",
    "4. convert base_measure height_measure str value into the int variable base and height \n",
    "5. calculate the area of the triangle by using the formula: area of triangle = 1/2 X(Base X Height)\n",
    "6. Show the result \n",
    "\"\"\""
   ]
  },
  {
   "cell_type": "code",
   "execution_count": 2,
   "id": "e33a493f-80e7-48ff-9ae4-112bef0f57d7",
   "metadata": {},
   "outputs": [
    {
     "name": "stdin",
     "output_type": "stream",
     "text": [
      " Please enter the unit of measuremnt feet\n",
      "please enter the length of triangle base: 12\n",
      "Please enter the height of the triangle  :  4\n"
     ]
    },
    {
     "name": "stdout",
     "output_type": "stream",
     "text": [
      "Area of the triangle is :  24.0  square feet\n"
     ]
    }
   ],
   "source": [
    "# program to calculate the area when base and height is given\n",
    "unit_measure = input(' Please enter the unit of measurement)\n",
    "base_measure = input('Please enter the length of triangle base:')\n",
    "height_measure = input('Please enter the height of the triangle  : ')\n",
    "base = int(base_measure)\n",
    "height = int(height_measure)\n",
    "area_of_triangle = (height * base)*0.5\n",
    "print('Area of the triangle is : ', area_of_triangle,' square', unit_measure)"
   ]
  },
  {
   "cell_type": "code",
   "execution_count": 10,
   "id": "8e21d6f5-a803-4c6e-b04d-60e106ba06c1",
   "metadata": {},
   "outputs": [],
   "source": [
    "# program to calculate the area when base and height is given .\n",
    "# condition is if the input values are in floating no.\n"
   ]
  },
  {
   "cell_type": "code",
   "execution_count": 11,
   "id": "e14a289f-448d-4244-a338-36a85b2f220c",
   "metadata": {},
   "outputs": [],
   "source": [
    "# logic is to convert the decimal value of inch to feet if it is in feet"
   ]
  },
  {
   "cell_type": "code",
   "execution_count": 17,
   "id": "7f551db5-bc41-465f-968b-516db1c1545e",
   "metadata": {},
   "outputs": [
    {
     "name": "stdin",
     "output_type": "stream",
     "text": [
      " Please enter the unit of measurement feet\n",
      "Please enter the length of triangle base: 12.4\n",
      "Please enter the height of the triangle  :  8.10\n"
     ]
    },
    {
     "name": "stdout",
     "output_type": "stream",
     "text": [
      "8.008333333333333\n",
      "Area of the triangle is :  49.651666666666664  square feet\n"
     ]
    }
   ],
   "source": [
    "unit_measure = input(' Please enter the unit of measurement')\n",
    "base_measure = input('Please enter the length of triangle base:')\n",
    "height_measure = input('Please enter the height of the triangle  : ')\n",
    "base = float(base_measure)\n",
    "height = float(height_measure)\n",
    "if(unit_measure == \"feet\" or uniunit_measure==\"Feet\"):\n",
    "    base_inch = (base -int(base))*(1/12) + int(base)\n",
    "    #print(base_inch)\n",
    "    #print(base)\n",
    "    height = (height -int(height))*(1/12) + int(height)\n",
    "    #print(height)\n",
    "area_of_triangle = (height * base)*0.5\n",
    "print('Area of the triangle is : ', area_of_triangle,' square', unit_measure)"
   ]
  },
  {
   "cell_type": "markdown",
   "id": "868322c2-5932-4d9a-8fc3-702367aa08c9",
   "metadata": {},
   "source": [
    "-------------------------------\n",
    "#### * problem statement 2 :\n",
    "- Now how to calculate the area of a triangle whose three sides are given .\n",
    "\n",
    "\n",
    "    "
   ]
  },
  {
   "cell_type": "markdown",
   "id": "8b237ae9-9216-43bd-a998-8494befdd675",
   "metadata": {},
   "source": [
    "<img alt=\"Area of triangle with 3 sides formula is called Heron's formula and using this, area is equal to square root of s times s minus a times s minus b times s minus c\" src=\"https://d138zd1ktt9iqe.cloudfront.net/media/seo_landing_files/area-of-triangle-with-3-sides-01-1627893596.png\" style=\"width: 450px;\">"
   ]
  },
  {
   "cell_type": "markdown",
   "id": "56e4bc89-7b03-412b-b9b4-e3c55b150ed8",
   "metadata": {},
   "source": [
    "- here, a, b and c are three sides of a triangle\n",
    "- s = semiperimeter"
   ]
  },
  {
   "cell_type": "code",
   "execution_count": 22,
   "id": "c746236c-8da7-41f9-a956-86b549d5173a",
   "metadata": {},
   "outputs": [
    {
     "name": "stdin",
     "output_type": "stream",
     "text": [
      "Please provide the unit of measurement meter\n",
      "please proivde the measurement of first side of the trinagle  : 12.5\n",
      "please proivde the measurement of second side of the trinagle  : 7.8\n",
      "please proivde the measurement of third side of the trinagle  : 9.30\n"
     ]
    },
    {
     "name": "stdout",
     "output_type": "stream",
     "text": [
      "Area of the triangle is :  (36.201381189120404+0j)  square meter\n"
     ]
    }
   ],
   "source": [
    "# code to calculate area of a triangle whose three sides are given\n",
    "import cmath as cm\n",
    "unit_of_measurement = input(\"Please provide the unit of measurement\")\n",
    "first_side_of_triangle = input('please proivde the measurement of first side of the trinagle  :') \n",
    "second_side_of_triangle = input('please proivde the measurement of second side of the trinagle  :') \n",
    "third_side_of_triangle = input('please proivde the measurement of third side of the trinagle  :') \n",
    "a = float(first_side_of_triangle)\n",
    "b = float(second_side_of_triangle)\n",
    "c = float(third_side_of_triangle)\n",
    "#to check if the unit of measurement is in feet\n",
    "if unit_of_measurement == 'feet' or unit_of_measurement == 'Feet' :\n",
    "    a = ((a-int(a))/12) + int(a)\n",
    "    b = ((a-int(b))/12) + int(b)\n",
    "    c = ((a-int(c)/12)) + int(c)\n",
    "s = (a+b+c)/2\n",
    "area_of_triangle = cm.sqrt(s*(s-a)*(s-b)*(s-c))\n",
    "print('Area of the triangle is : ', area_of_triangle,' square', unit_of_measurement)"
   ]
  },
  {
   "cell_type": "code",
   "execution_count": 24,
   "id": "9569c1fb-6466-426f-865c-8daf87526847",
   "metadata": {},
   "outputs": [
    {
     "name": "stdout",
     "output_type": "stream",
     "text": [
      "<built-in function pwrite>\n"
     ]
    }
   ],
   "source": [
    "import os\n",
    "print(os.pwrite)"
   ]
  },
  {
   "cell_type": "code",
   "execution_count": null,
   "id": "c4859d31-fc47-4726-a934-a675383fca11",
   "metadata": {},
   "outputs": [],
   "source": []
  }
 ],
 "metadata": {
  "kernelspec": {
   "display_name": "Python 3 (ipykernel)",
   "language": "python",
   "name": "python3"
  },
  "language_info": {
   "codemirror_mode": {
    "name": "ipython",
    "version": 3
   },
   "file_extension": ".py",
   "mimetype": "text/x-python",
   "name": "python",
   "nbconvert_exporter": "python",
   "pygments_lexer": "ipython3",
   "version": "3.12.3"
  }
 },
 "nbformat": 4,
 "nbformat_minor": 5
}
