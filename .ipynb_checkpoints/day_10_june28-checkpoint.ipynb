{
 "cells": [
  {
   "cell_type": "markdown",
   "id": "ab7a9517-d786-41cd-a2ec-b64a5a1633fc",
   "metadata": {},
   "source": [
    "- date : june 28, 2024\n",
    "- Day - 10 of 100 days programming"
   ]
  },
  {
   "cell_type": "code",
   "execution_count": 1,
   "id": "fb705804-3888-4600-a6f7-c77edbf03110",
   "metadata": {},
   "outputs": [
    {
     "name": "stdin",
     "output_type": "stream",
     "text": [
      "Enter a integral number 12\n"
     ]
    },
    {
     "name": "stdout",
     "output_type": "stream",
     "text": [
      "No is even \n"
     ]
    }
   ],
   "source": [
    "# To do : check if a number is odd or even \n",
    "number = eval(input(\"Enter a integral number\"))\n",
    "if number%2 == 0: print(\"No is even \")\n",
    "else : print(\"No is odd\")"
   ]
  },
  {
   "cell_type": "code",
   "execution_count": null,
   "id": "fcb69bc7-b08f-4ec6-89ac-35d2c42b41ec",
   "metadata": {},
   "outputs": [],
   "source": []
  }
 ],
 "metadata": {
  "kernelspec": {
   "display_name": "Python 3 (ipykernel)",
   "language": "python",
   "name": "python3"
  },
  "language_info": {
   "codemirror_mode": {
    "name": "ipython",
    "version": 3
   },
   "file_extension": ".py",
   "mimetype": "text/x-python",
   "name": "python",
   "nbconvert_exporter": "python",
   "pygments_lexer": "ipython3",
   "version": "3.11.7"
  }
 },
 "nbformat": 4,
 "nbformat_minor": 5
}
