{
 "cells": [
  {
   "cell_type": "markdown",
   "id": "eba84594-ecf4-4322-8bea-8cd934856afb",
   "metadata": {},
   "source": [
    "- Date - July 06, 2024\n",
    "- 18 days of 100 days of coading "
   ]
  },
  {
   "cell_type": "code",
   "execution_count": 2,
   "id": "24a7507a-c4df-4718-98b0-cd625fcc6c14",
   "metadata": {},
   "outputs": [],
   "source": [
    "# TO DO : Find the Factor of a number\n"
   ]
  },
  {
   "cell_type": "code",
   "execution_count": 12,
   "id": "4c43f42a-40e6-46a7-9733-ae7b957fc691",
   "metadata": {},
   "outputs": [],
   "source": [
    "#CODE : \n",
    "\n",
    "def findFactor(number):\n",
    "    try:\n",
    "        factor = list()\n",
    "        for i in range(number+1):\n",
    "            if number % (i+1)== 0:\n",
    "                factor.append(i+1)\n",
    "        return factor\n",
    "    except Exception as e:\n",
    "        print(\"Error :\",e)\n",
    "        return None\n",
    "def getNumber():\n",
    "    number = eval(input(\"Enter a number: \"))\n",
    "    if number >= 0 : return number\n",
    "    else : return None\n",
    "def main():\n",
    "    import time\n",
    "    time.sleep(1)\n",
    "    print(\"Factorial Finder\".center(40,\"*\"))\n",
    "    time.sleep(1)\n",
    "    number = getNumber()\n",
    "    if number == None: \n",
    "        print(\"Result\".center(40,\"*\"))\n",
    "        print(\"Wrong Entry\")\n",
    "    else : \n",
    "        factorof = findFactor(number)\n",
    "        if factorof!= None:\n",
    "            print(\"Result\".center(40,\"*\"))\n",
    "            time.sleep(1)\n",
    "            print(factorof[:])\n",
    "        else: \n",
    "            print(\"Result\".center(40,\"*\"))\n",
    "            time.sleep(1)\n",
    "            print(\"Some internal Error occure. Please Tye after some time.\")\n",
    "            \n",
    "        "
   ]
  },
  {
   "cell_type": "code",
   "execution_count": 14,
   "id": "0e9e5773-6ccc-4d1b-bd37-49533eefd9d3",
   "metadata": {},
   "outputs": [
    {
     "name": "stdout",
     "output_type": "stream",
     "text": [
      "************Factorial Finder************\n"
     ]
    },
    {
     "name": "stdin",
     "output_type": "stream",
     "text": [
      "Enter a number:  75\n"
     ]
    },
    {
     "name": "stdout",
     "output_type": "stream",
     "text": [
      "*****************Result*****************\n",
      "[1, 3, 5, 15, 25, 75]\n"
     ]
    }
   ],
   "source": [
    "main()"
   ]
  },
  {
   "cell_type": "code",
   "execution_count": null,
   "id": "94c34d66-33c7-4516-9752-cb7bfcd92a57",
   "metadata": {},
   "outputs": [],
   "source": []
  }
 ],
 "metadata": {
  "kernelspec": {
   "display_name": "Python 3 (ipykernel)",
   "language": "python",
   "name": "python3"
  },
  "language_info": {
   "codemirror_mode": {
    "name": "ipython",
    "version": 3
   },
   "file_extension": ".py",
   "mimetype": "text/x-python",
   "name": "python",
   "nbconvert_exporter": "python",
   "pygments_lexer": "ipython3",
   "version": "3.12.4"
  }
 },
 "nbformat": 4,
 "nbformat_minor": 5
}
