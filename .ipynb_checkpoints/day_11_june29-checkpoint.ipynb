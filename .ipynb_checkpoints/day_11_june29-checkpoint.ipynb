{
 "cells": [
  {
   "cell_type": "markdown",
   "id": "f116b47e-9ac8-4085-9922-9b85606d9f80",
   "metadata": {},
   "source": [
    "- Date - June29, 2024 ,\n",
    "- 11th day of 100 days python porgramming "
   ]
  },
  {
   "cell_type": "code",
   "execution_count": 1,
   "id": "5f083cb1-0794-4b89-9b96-3b3c600d2f96",
   "metadata": {},
   "outputs": [],
   "source": [
    "# to do : to find out that is a given year is a leap year on not\n",
    "\n"
   ]
  },
  {
   "cell_type": "code",
   "execution_count": 2,
   "id": "7fe0d1a2-3bb2-43bc-961a-cd4f31928683",
   "metadata": {},
   "outputs": [],
   "source": [
    "# apporach one \n",
    "# if a given year is divisible by 4 and 100 but not divisible by 400 than it is a leaf year\n"
   ]
  },
  {
   "cell_type": "code",
   "execution_count": 15,
   "id": "5135b9d1-eb56-4f76-909a-0fe825bba096",
   "metadata": {},
   "outputs": [
    {
     "name": "stdin",
     "output_type": "stream",
     "text": [
      "Enter a year to calculate a year is leap or not :  2004\n"
     ]
    },
    {
     "name": "stdout",
     "output_type": "stream",
     "text": [
      "leap year\n"
     ]
    }
   ],
   "source": [
    "leap_year = eval(input(\"Enter a year to calculate a year is leap or not : \"))\n",
    "if leap_year% 400 == 0: \n",
    "    print(\"leap year\")\n",
    "elif leap_year% 4 == 0:\n",
    "    if leap_year % 400 != 0 and leap_year % 100 != 0 :\n",
    "        print(\"leap year\")\n",
    "    else: print(\"Normal Year\")\n",
    "else : print(\"Normal Year\")"
   ]
  },
  {
   "cell_type": "code",
   "execution_count": 16,
   "id": "095face6-c80d-4b47-b057-31e8ec9f09d4",
   "metadata": {},
   "outputs": [],
   "source": [
    "# another apporach uisng predefined function  in calender module"
   ]
  },
  {
   "cell_type": "code",
   "execution_count": 17,
   "id": "0d7132b8-2fd0-42f0-81eb-01c6ddc4ef07",
   "metadata": {},
   "outputs": [],
   "source": [
    "import calendar\n"
   ]
  },
  {
   "cell_type": "code",
   "execution_count": 18,
   "id": "1af2d70a-7920-4fcf-b6be-df1d389b28a0",
   "metadata": {},
   "outputs": [
    {
     "data": {
      "text/plain": [
       "['Calendar',\n",
       " 'EPOCH',\n",
       " 'FRIDAY',\n",
       " 'February',\n",
       " 'HTMLCalendar',\n",
       " 'IllegalMonthError',\n",
       " 'IllegalWeekdayError',\n",
       " 'January',\n",
       " 'LocaleHTMLCalendar',\n",
       " 'LocaleTextCalendar',\n",
       " 'MONDAY',\n",
       " 'SATURDAY',\n",
       " 'SUNDAY',\n",
       " 'THURSDAY',\n",
       " 'TUESDAY',\n",
       " 'TextCalendar',\n",
       " 'WEDNESDAY',\n",
       " '_EPOCH_ORD',\n",
       " '__all__',\n",
       " '__builtins__',\n",
       " '__cached__',\n",
       " '__doc__',\n",
       " '__file__',\n",
       " '__loader__',\n",
       " '__name__',\n",
       " '__package__',\n",
       " '__spec__',\n",
       " '_colwidth',\n",
       " '_get_default_locale',\n",
       " '_locale',\n",
       " '_localized_day',\n",
       " '_localized_month',\n",
       " '_monthlen',\n",
       " '_nextmonth',\n",
       " '_prevmonth',\n",
       " '_spacing',\n",
       " 'c',\n",
       " 'calendar',\n",
       " 'datetime',\n",
       " 'day_abbr',\n",
       " 'day_name',\n",
       " 'different_locale',\n",
       " 'error',\n",
       " 'firstweekday',\n",
       " 'format',\n",
       " 'formatstring',\n",
       " 'isleap',\n",
       " 'leapdays',\n",
       " 'main',\n",
       " 'mdays',\n",
       " 'month',\n",
       " 'month_abbr',\n",
       " 'month_name',\n",
       " 'monthcalendar',\n",
       " 'monthrange',\n",
       " 'prcal',\n",
       " 'prmonth',\n",
       " 'prweek',\n",
       " 'repeat',\n",
       " 'setfirstweekday',\n",
       " 'sys',\n",
       " 'timegm',\n",
       " 'week',\n",
       " 'weekday',\n",
       " 'weekheader']"
      ]
     },
     "execution_count": 18,
     "metadata": {},
     "output_type": "execute_result"
    }
   ],
   "source": [
    "dir(calendar)"
   ]
  },
  {
   "cell_type": "code",
   "execution_count": 19,
   "id": "bcf8647a-06f7-4785-9db1-1bb04cfc5361",
   "metadata": {},
   "outputs": [
    {
     "name": "stdout",
     "output_type": "stream",
     "text": [
      "Help on function isleap in module calendar:\n",
      "\n",
      "isleap(year)\n",
      "    Return True for leap years, False for non-leap years.\n",
      "\n"
     ]
    }
   ],
   "source": [
    "help(calendar.isleap)"
   ]
  },
  {
   "cell_type": "code",
   "execution_count": 22,
   "id": "ff2541fa-69f0-4bcc-bff5-d583224f3a1e",
   "metadata": {},
   "outputs": [
    {
     "name": "stdin",
     "output_type": "stream",
     "text": [
      "Enter the year to evaluate is it leap year or not : 2004\n"
     ]
    },
    {
     "name": "stdout",
     "output_type": "stream",
     "text": [
      "2004 is a leap year\n"
     ]
    }
   ],
   "source": [
    "import calendar\n",
    "leap_year = eval(input(\"Enter the year to evaluate is it leap year or not :\"))\n",
    "is_leap_year = calendar.isleap(leap_year)\n",
    "if is_leap_year :print(f\"{leap_year} is a leap year\")\n",
    "else : print(f\"{leap_year} is a normal year\")"
   ]
  },
  {
   "cell_type": "code",
   "execution_count": null,
   "id": "8bd5c92f-f38d-445c-8aba-248f1e96fc5d",
   "metadata": {},
   "outputs": [],
   "source": []
  }
 ],
 "metadata": {
  "kernelspec": {
   "display_name": "Python 3 (ipykernel)",
   "language": "python",
   "name": "python3"
  },
  "language_info": {
   "codemirror_mode": {
    "name": "ipython",
    "version": 3
   },
   "file_extension": ".py",
   "mimetype": "text/x-python",
   "name": "python",
   "nbconvert_exporter": "python",
   "pygments_lexer": "ipython3",
   "version": "3.11.7"
  }
 },
 "nbformat": 4,
 "nbformat_minor": 5
}
