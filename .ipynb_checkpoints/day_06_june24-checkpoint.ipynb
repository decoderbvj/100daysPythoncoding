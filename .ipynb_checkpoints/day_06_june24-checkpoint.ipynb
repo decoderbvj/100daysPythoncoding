{
 "cells": [
  {
   "cell_type": "markdown",
   "id": "ac9aafd6-404b-4053-9944-9d5e305f0813",
   "metadata": {},
   "source": [
    "- Date - June 24, 2024\n",
    "- Day 06 of programming "
   ]
  },
  {
   "cell_type": "markdown",
   "id": "ce44562a-dac9-4b3b-b521-717700f0caa9",
   "metadata": {},
   "source": [
    "### TO DO : \n",
    "- wap to generate a ramdom no . "
   ]
  },
  {
   "cell_type": "code",
   "execution_count": 1,
   "id": "6540fe24-87fa-4bd9-9b85-0c0a207aa651",
   "metadata": {},
   "outputs": [],
   "source": [
    "#CODE :\n",
    "# we have ramdom package where rand() function present. By the help of it we will generate the random number."
   ]
  },
  {
   "cell_type": "code",
   "execution_count": 2,
   "id": "8ee4a1c0-6db6-4b19-97ef-ec963a4db3d2",
   "metadata": {},
   "outputs": [],
   "source": [
    "import random"
   ]
  },
  {
   "cell_type": "code",
   "execution_count": 4,
   "id": "bf900ae2-a668-426c-812c-93d5ad418b78",
   "metadata": {},
   "outputs": [
    {
     "name": "stdout",
     "output_type": "stream",
     "text": [
      "['BPF', 'LOG4', 'NV_MAGICCONST', 'RECIP_BPF', 'Random', 'SG_MAGICCONST', 'SystemRandom', 'TWOPI', '_ONE', '_Sequence', '__all__', '__builtins__', '__cached__', '__doc__', '__file__', '__loader__', '__name__', '__package__', '__spec__', '_accumulate', '_acos', '_bisect', '_ceil', '_cos', '_e', '_exp', '_fabs', '_floor', '_index', '_inst', '_isfinite', '_lgamma', '_log', '_log2', '_os', '_pi', '_random', '_repeat', '_sha512', '_sin', '_sqrt', '_test', '_test_generator', '_urandom', '_warn', 'betavariate', 'binomialvariate', 'choice', 'choices', 'expovariate', 'gammavariate', 'gauss', 'getrandbits', 'getstate', 'lognormvariate', 'normalvariate', 'paretovariate', 'randbytes', 'randint', 'random', 'randrange', 'sample', 'seed', 'setstate', 'shuffle', 'triangular', 'uniform', 'vonmisesvariate', 'weibullvariate']\n"
     ]
    }
   ],
   "source": [
    "print(dir(random))"
   ]
  },
  {
   "cell_type": "code",
   "execution_count": 5,
   "id": "5f3773b0-ae40-498b-8f20-27dc6135c543",
   "metadata": {},
   "outputs": [
    {
     "name": "stdout",
     "output_type": "stream",
     "text": [
      "Help on built-in function random:\n",
      "\n",
      "random() method of random.Random instance\n",
      "    random() -> x in the interval [0, 1).\n",
      "\n"
     ]
    }
   ],
   "source": [
    "help(random.random)"
   ]
  },
  {
   "cell_type": "code",
   "execution_count": 6,
   "id": "4ae9c80b-6469-432a-b0c5-bb261cc8a59d",
   "metadata": {},
   "outputs": [
    {
     "name": "stdout",
     "output_type": "stream",
     "text": [
      "A random no between 0 to 1 si : 0.12498461480777412\n"
     ]
    }
   ],
   "source": [
    "print(\"A random no between 0 to 1 si :\", random.random())"
   ]
  },
  {
   "cell_type": "code",
   "execution_count": 7,
   "id": "f666ad7c-fe3f-4906-adcd-f8e2dc762404",
   "metadata": {},
   "outputs": [],
   "source": [
    "#generaing a random number between a range of no . \n",
    "# usgin randint() function "
   ]
  },
  {
   "cell_type": "code",
   "execution_count": 10,
   "id": "c26f5c24-0f59-477f-8258-831512566596",
   "metadata": {},
   "outputs": [
    {
     "name": "stdout",
     "output_type": "stream",
     "text": [
      "13\n"
     ]
    }
   ],
   "source": [
    "import random as r\n",
    "random_no = r.randint(10,14)\n",
    "print(random_no)\n"
   ]
  },
  {
   "cell_type": "code",
   "execution_count": 11,
   "id": "3a7516bc-5986-4709-8a1c-4d2f2c5adfa7",
   "metadata": {},
   "outputs": [
    {
     "name": "stdout",
     "output_type": "stream",
     "text": [
      "13\n"
     ]
    }
   ],
   "source": [
    "print(random_no)"
   ]
  },
  {
   "cell_type": "code",
   "execution_count": 12,
   "id": "c9068db3-900c-4d9d-9a40-c7ee61b8930e",
   "metadata": {},
   "outputs": [],
   "source": [
    "# write a program to get input a range of number and generate a random no . \n"
   ]
  },
  {
   "cell_type": "code",
   "execution_count": 14,
   "id": "f4b543ec-8303-4476-9025-52da1f9dc7f9",
   "metadata": {},
   "outputs": [
    {
     "name": "stdin",
     "output_type": "stream",
     "text": [
      "Enter the lower range  no : 12\n",
      "Enter the higher range no :  44\n"
     ]
    },
    {
     "name": "stdout",
     "output_type": "stream",
     "text": [
      "Random no generated in a range of 12 and 44 is 31\n"
     ]
    }
   ],
   "source": [
    "lower_range_no = eval(input(\"Enter the lower range  no :\"))\n",
    "higer_range_no = eval(input(\"Enter the higher range no : \"))\n",
    "import random\n",
    "ramdom_no = random.randint(lower_range_no, higer_range_no)\n",
    "print(f\"Random no generated in a range of {lower_range_no} and {higer_range_no} is {ramdom_no}\")"
   ]
  },
  {
   "cell_type": "code",
   "execution_count": 15,
   "id": "363faa16-3325-4799-9bc9-348d421922ce",
   "metadata": {},
   "outputs": [
    {
     "name": "stdout",
     "output_type": "stream",
     "text": [
      "Help on method randrange in module random:\n",
      "\n",
      "randrange(start, stop=None, step=1) method of random.Random instance\n",
      "    Choose a random item from range(stop) or range(start, stop[, step]).\n",
      "\n",
      "    Roughly equivalent to ``choice(range(start, stop, step))`` but\n",
      "    supports arbitrarily large ranges and is optimized for common cases.\n",
      "\n"
     ]
    }
   ],
   "source": [
    "help(random.randrange)"
   ]
  },
  {
   "cell_type": "code",
   "execution_count": 16,
   "id": "ba47a208-e787-41cd-9f11-ac2973f53a47",
   "metadata": {},
   "outputs": [],
   "source": [
    "# write a code to generate a OTP of 4 digit ."
   ]
  },
  {
   "cell_type": "code",
   "execution_count": 17,
   "id": "218c3831-c423-4383-a6c8-c29e43aa7ca2",
   "metadata": {},
   "outputs": [],
   "source": [
    "OTP = random.randrange(1000,9999)"
   ]
  },
  {
   "cell_type": "code",
   "execution_count": 18,
   "id": "9cff44a5-b037-49f4-90a5-9bd5f725ef34",
   "metadata": {},
   "outputs": [
    {
     "name": "stdout",
     "output_type": "stream",
     "text": [
      "8052\n"
     ]
    }
   ],
   "source": [
    "print(OTP)"
   ]
  },
  {
   "cell_type": "code",
   "execution_count": 19,
   "id": "46c64365-3e9a-42d9-a3be-66931fd49146",
   "metadata": {},
   "outputs": [],
   "source": [
    "# write a code to generate a OTP of 6 digit with prefix \"G-\" "
   ]
  },
  {
   "cell_type": "code",
   "execution_count": 21,
   "id": "3b7c8fd4-db7a-4b71-9158-cde8ceb540cf",
   "metadata": {},
   "outputs": [
    {
     "name": "stdout",
     "output_type": "stream",
     "text": [
      "G-280592\n"
     ]
    }
   ],
   "source": [
    "import random as ran\n",
    "OTP_no = ran.randrange(100000,999999)\n",
    "OTP = \"G-\" + str(OTP_no)\n",
    "print(OTP)"
   ]
  },
  {
   "cell_type": "code",
   "execution_count": null,
   "id": "33aecec4-581d-4360-97fc-8dbaad02ed43",
   "metadata": {},
   "outputs": [],
   "source": []
  }
 ],
 "metadata": {
  "kernelspec": {
   "display_name": "Python 3 (ipykernel)",
   "language": "python",
   "name": "python3"
  },
  "language_info": {
   "codemirror_mode": {
    "name": "ipython",
    "version": 3
   },
   "file_extension": ".py",
   "mimetype": "text/x-python",
   "name": "python",
   "nbconvert_exporter": "python",
   "pygments_lexer": "ipython3",
   "version": "3.12.3"
  }
 },
 "nbformat": 4,
 "nbformat_minor": 5
}
