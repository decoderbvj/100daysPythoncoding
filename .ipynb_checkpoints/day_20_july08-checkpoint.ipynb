{
 "cells": [
  {
   "cell_type": "markdown",
   "id": "e69f94fc-d9bb-4b30-b74e-45a4c00f3a09",
   "metadata": {},
   "source": [
    "- Date : July 08, 2024\n",
    "- day 20 of 100 days of pthon programming"
   ]
  },
  {
   "cell_type": "code",
   "execution_count": 2,
   "id": "ec0c63c0-7db6-4fc6-a14c-98048aa3c340",
   "metadata": {},
   "outputs": [],
   "source": [
    "# to do :\n",
    "# find a no is prime or not\n",
    "# find next prime no"
   ]
  },
  {
   "cell_type": "code",
   "execution_count": 114,
   "id": "774687dc-8f6c-4d65-8c8e-c2262c932f10",
   "metadata": {},
   "outputs": [
    {
     "data": {
      "text/plain": [
       "False"
      ]
     },
     "execution_count": 114,
     "metadata": {},
     "output_type": "execute_result"
    }
   ],
   "source": [
    "# define function to get prime no\n",
    "def isPrime(number):\n",
    "    STATUS = True\n",
    "    for i in range(2,number):\n",
    "        if number % i == 0: return False\n",
    "    return STATUS\n",
    "isPrime(4)"
   ]
  },
  {
   "cell_type": "code",
   "execution_count": null,
   "id": "4d34b327-59ee-4df8-9e37-88df16b1a8d1",
   "metadata": {},
   "outputs": [],
   "source": [
    "\n"
   ]
  },
  {
   "cell_type": "code",
   "execution_count": null,
   "id": "d6875493-b2b1-409c-af1e-fa52d25ed80e",
   "metadata": {},
   "outputs": [],
   "source": []
  },
  {
   "cell_type": "code",
   "execution_count": null,
   "id": "c397b2e7-b18f-4de2-a126-e4d294807128",
   "metadata": {},
   "outputs": [],
   "source": []
  }
 ],
 "metadata": {
  "kernelspec": {
   "display_name": "Python 3 (ipykernel)",
   "language": "python",
   "name": "python3"
  },
  "language_info": {
   "codemirror_mode": {
    "name": "ipython",
    "version": 3
   },
   "file_extension": ".py",
   "mimetype": "text/x-python",
   "name": "python",
   "nbconvert_exporter": "python",
   "pygments_lexer": "ipython3",
   "version": "3.12.4"
  }
 },
 "nbformat": 4,
 "nbformat_minor": 5
}
