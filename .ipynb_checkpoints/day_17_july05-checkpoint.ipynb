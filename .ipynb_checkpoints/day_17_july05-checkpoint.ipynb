{
 "cells": [
  {
   "cell_type": "markdown",
   "id": "a297903e-70dd-40d0-9188-6aba742406cd",
   "metadata": {},
   "source": [
    "- Date: July 05,2024\n",
    "\n",
    "- Day 17 of 100 days of python programing"
   ]
  },
  {
   "cell_type": "code",
   "execution_count": 3,
   "id": "3e307699-1b68-4eaa-b17a-9f28e1eff9ba",
   "metadata": {},
   "outputs": [],
   "source": [
    "# code for amstrong number\n"
   ]
  },
  {
   "cell_type": "code",
   "execution_count": 27,
   "id": "48aa13eb-e92d-4d7a-81cb-c017ce791b36",
   "metadata": {},
   "outputs": [
    {
     "name": "stdin",
     "output_type": "stream",
     "text": [
      "Enter a number : 153\n"
     ]
    },
    {
     "name": "stdout",
     "output_type": "stream",
     "text": [
      "1\n",
      "125\n",
      "27\n",
      "----\n",
      "153\n",
      "amstrong no\n"
     ]
    }
   ],
   "source": [
    "#code:\n",
    "number = eval(input(\"Enter a number :\"))\n",
    "number_str = str(number)\n",
    "check_amstorn = 0\n",
    "for value in number_str:\n",
    "    i = pow(int(value),len(number_str))\n",
    "    print(i)\n",
    "    check_amstorn = check_amstorn+ i\n",
    "print(\"----\")\n",
    "print(check_amstorn)\n",
    "if number == check_amstorn:\n",
    "    print(\"amstrong no\")\n",
    "else:  print(\"not amstrong no\")"
   ]
  },
  {
   "cell_type": "code",
   "execution_count": 65,
   "id": "84e26df0-f26d-47e1-960a-273b0efea6c8",
   "metadata": {},
   "outputs": [],
   "source": [
    "def isAmstrong(number):\n",
    "    number_str = str(number)\n",
    "    check_amstrong = 0\n",
    "    for value in number_str:\n",
    "        int(value)\n",
    "        check_amstrong = check_amstrong + (int(value) ** len(number_str))\n",
    "    if number == check_amstorn : return True\n",
    "    else : return False     \n",
    "    "
   ]
  },
  {
   "cell_type": "code",
   "execution_count": 69,
   "id": "363b240a-81ef-4107-af6c-8130a15bbadd",
   "metadata": {},
   "outputs": [
    {
     "name": "stdout",
     "output_type": "stream",
     "text": [
      "True\n"
     ]
    }
   ],
   "source": [
    "print(isAmstrong(153))"
   ]
  },
  {
   "cell_type": "code",
   "execution_count": null,
   "id": "4cfeecce-190b-4754-9c1b-492149191825",
   "metadata": {},
   "outputs": [],
   "source": []
  }
 ],
 "metadata": {
  "kernelspec": {
   "display_name": "Python 3 (ipykernel)",
   "language": "python",
   "name": "python3"
  },
  "language_info": {
   "codemirror_mode": {
    "name": "ipython",
    "version": 3
   },
   "file_extension": ".py",
   "mimetype": "text/x-python",
   "name": "python",
   "nbconvert_exporter": "python",
   "pygments_lexer": "ipython3",
   "version": "3.12.4"
  }
 },
 "nbformat": 4,
 "nbformat_minor": 5
}
