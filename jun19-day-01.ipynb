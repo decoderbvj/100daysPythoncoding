{
 "cells": [
  {
   "cell_type": "markdown",
   "id": "8ae05bb5-4f34-41e0-91c4-2f4b67b2521c",
   "metadata": {},
   "source": [
    "**This is the first day of my python coding challenge**\n",
    "- today I am going to set up git-hub\n",
    "- create day one notebook\n",
    "- Print that I have accepted the challenge\n",
    "- save the file\n",
    "- commit it to the git hub profile"
   ]
  },
  {
   "cell_type": "code",
   "execution_count": 1,
   "id": "99b89961-f0f9-4f93-a201-3b7d7409797c",
   "metadata": {},
   "outputs": [
    {
     "name": "stdout",
     "output_type": "stream",
     "text": [
      "I have accpeted the 100 days python coding challenge\n"
     ]
    }
   ],
   "source": [
    "print(\"I have accpeted the 100 days python coding challenge\")"
   ]
  },
  {
   "cell_type": "markdown",
   "id": "7faa1358-a380-41b7-ad28-e37e3e5f002e",
   "metadata": {},
   "source": [
    "- TO DO : Write a code to add two no "
   ]
  },
  {
   "cell_type": "code",
   "execution_count": 2,
   "id": "08d39fd7-60df-4834-9ee6-6e3abf04d8c4",
   "metadata": {},
   "outputs": [
    {
     "data": {
      "text/plain": [
       "25"
      ]
     },
     "execution_count": 2,
     "metadata": {},
     "output_type": "execute_result"
    }
   ],
   "source": [
    "# solution 1\n",
    "a = 12\n",
    "b = 13\n",
    "c = a + b \n",
    "c"
   ]
  },
  {
   "cell_type": "code",
   "execution_count": 3,
   "id": "b5e899b4-064e-4ff3-9e16-0c10b1876596",
   "metadata": {},
   "outputs": [
    {
     "data": {
      "text/plain": [
       "49.05"
      ]
     },
     "execution_count": 3,
     "metadata": {},
     "output_type": "execute_result"
    }
   ],
   "source": [
    "# solution 2\n",
    "a = 34.05\n",
    "b = 15\n",
    "c = a + b\n",
    "c"
   ]
  },
  {
   "cell_type": "code",
   "execution_count": 4,
   "id": "e55b1df4-c3bc-4e3e-94a8-6a28eecc0d35",
   "metadata": {},
   "outputs": [
    {
     "data": {
      "text/plain": [
       "(16+3j)"
      ]
     },
     "execution_count": 4,
     "metadata": {},
     "output_type": "execute_result"
    }
   ],
   "source": [
    "# solution 3\n",
    "a = 4 + 3j\n",
    "b = 12\n",
    "c = a+b\n",
    "c"
   ]
  },
  {
   "cell_type": "code",
   "execution_count": 5,
   "id": "6512fb20-17de-4d1d-9780-ca35e69d9a73",
   "metadata": {},
   "outputs": [
    {
     "data": {
      "text/plain": [
       "-3.4000000000000004"
      ]
     },
     "execution_count": 5,
     "metadata": {},
     "output_type": "execute_result"
    }
   ],
   "source": [
    "# solution 4\n",
    "a = 3.5\n",
    "b = - 6.9\n",
    "c = a+ b\n",
    "c"
   ]
  },
  {
   "cell_type": "code",
   "execution_count": 6,
   "id": "534e7e22-e118-4182-a517-c033d06cab34",
   "metadata": {},
   "outputs": [],
   "source": [
    "# solution 5"
   ]
  },
  {
   "cell_type": "code",
   "execution_count": null,
   "id": "1b7bc191-d966-4ef5-979c-f8b28a417c2c",
   "metadata": {},
   "outputs": [],
   "source": []
  }
 ],
 "metadata": {
  "kernelspec": {
   "display_name": "Python 3 (ipykernel)",
   "language": "python",
   "name": "python3"
  },
  "language_info": {
   "codemirror_mode": {
    "name": "ipython",
    "version": 3
   },
   "file_extension": ".py",
   "mimetype": "text/x-python",
   "name": "python",
   "nbconvert_exporter": "python",
   "pygments_lexer": "ipython3",
   "version": "3.12.3"
  }
 },
 "nbformat": 4,
 "nbformat_minor": 5
}
