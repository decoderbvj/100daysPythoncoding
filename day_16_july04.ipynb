{
 "cells": [
  {
   "cell_type": "markdown",
   "id": "1616467b-0dde-480b-8563-42065bb5bb62",
   "metadata": {},
   "source": [
    "- Date : - July 04, 2024\n",
    "- Day - 16 of 100 days of python coading"
   ]
  },
  {
   "cell_type": "code",
   "execution_count": 2,
   "id": "c3abb854-f733-4ec2-991f-b13781deb702",
   "metadata": {},
   "outputs": [],
   "source": [
    "# fibonacci series\n",
    "# Example - 1 1 2 3 5 8 13"
   ]
  },
  {
   "cell_type": "code",
   "execution_count": 18,
   "id": "6e4b315a-56a3-49f3-9c70-38b8cd66a731",
   "metadata": {},
   "outputs": [
    {
     "data": {
      "text/plain": [
       "1"
      ]
     },
     "execution_count": 18,
     "metadata": {},
     "output_type": "execute_result"
    }
   ],
   "source": [
    "i = 0\n",
    "j = 1\n",
    "f = i +j\n",
    "f"
   ]
  },
  {
   "cell_type": "code",
   "execution_count": 20,
   "id": "5733813e-ab17-4aae-aec2-1ff9d7a23ec3",
   "metadata": {},
   "outputs": [
    {
     "data": {
      "text/plain": [
       "2"
      ]
     },
     "execution_count": 20,
     "metadata": {},
     "output_type": "execute_result"
    }
   ],
   "source": [
    "i = j\n",
    "j = f\n",
    "f = i +j\n",
    "f\n",
    "\n"
   ]
  },
  {
   "cell_type": "code",
   "execution_count": 22,
   "id": "d78fc2a0-afca-4e3e-8309-182f1cf65606",
   "metadata": {},
   "outputs": [
    {
     "data": {
      "text/plain": [
       "3"
      ]
     },
     "execution_count": 22,
     "metadata": {},
     "output_type": "execute_result"
    }
   ],
   "source": [
    "i = j\n",
    "j = f\n",
    "f = i +j\n",
    "f"
   ]
  },
  {
   "cell_type": "code",
   "execution_count": 24,
   "id": "d9b13893-4eb8-4022-8645-7891412c0c6a",
   "metadata": {},
   "outputs": [
    {
     "data": {
      "text/plain": [
       "5"
      ]
     },
     "execution_count": 24,
     "metadata": {},
     "output_type": "execute_result"
    }
   ],
   "source": [
    "i = j\n",
    "j = f\n",
    "f = i +j\n",
    "f"
   ]
  },
  {
   "cell_type": "code",
   "execution_count": 26,
   "id": "3474f524-659d-43fb-8643-e6f5b2e2db45",
   "metadata": {},
   "outputs": [
    {
     "data": {
      "text/plain": [
       "8"
      ]
     },
     "execution_count": 26,
     "metadata": {},
     "output_type": "execute_result"
    }
   ],
   "source": [
    "i = j\n",
    "j = f\n",
    "f = i +j\n",
    "f"
   ]
  },
  {
   "cell_type": "code",
   "execution_count": 43,
   "id": "d949afdd-e2f2-4823-adb6-30de65faa1a8",
   "metadata": {},
   "outputs": [
    {
     "name": "stdout",
     "output_type": "stream",
     "text": [
      "1 1 2 3 5 8 13 21 34 55 89 "
     ]
    }
   ],
   "source": [
    "# code for febonacci seris\n",
    "i = 0\n",
    "j = 1\n",
    "f = 0\n",
    "iterator = 0\n",
    "print(1, end=\" \")\n",
    "while iterator < 10:\n",
    "    f = i + j \n",
    "    i = j\n",
    "    j = f\n",
    "    iterator +=1\n",
    "    print(f,end=\" \")"
   ]
  },
  {
   "cell_type": "code",
   "execution_count": null,
   "id": "2b5303c0-d0da-4ff0-905a-ba69f5bcc818",
   "metadata": {},
   "outputs": [],
   "source": []
  },
  {
   "cell_type": "code",
   "execution_count": null,
   "id": "a28ab004-2679-4587-a862-f207904aab88",
   "metadata": {},
   "outputs": [],
   "source": []
  }
 ],
 "metadata": {
  "kernelspec": {
   "display_name": "Python 3 (ipykernel)",
   "language": "python",
   "name": "python3"
  },
  "language_info": {
   "codemirror_mode": {
    "name": "ipython",
    "version": 3
   },
   "file_extension": ".py",
   "mimetype": "text/x-python",
   "name": "python",
   "nbconvert_exporter": "python",
   "pygments_lexer": "ipython3",
   "version": "3.12.4"
  }
 },
 "nbformat": 4,
 "nbformat_minor": 5
}
