{
 "cells": [
  {
   "cell_type": "markdown",
   "id": "8fb1c4e7-51e0-4b58-857e-b06eee7163e1",
   "metadata": {},
   "source": [
    "Date - june 22, 2024 - day -04"
   ]
  },
  {
   "cell_type": "markdown",
   "id": "881b0593-fc48-42c9-b3f1-01f95284c522",
   "metadata": {},
   "source": [
    "- Todo\n",
    "  -program to solve a quadratic equation . "
   ]
  },
  {
   "cell_type": "markdown",
   "id": "5c3a2701-ea2b-4d54-994a-d964810fb1a6",
   "metadata": {},
   "source": [
    "<img alt=\"Quadratic formula is used to find the roots of quadratic equation\" src=\"https://d138zd1ktt9iqe.cloudfront.net/media/seo_landing_files/quadratic-formula-1620687104.png\" style=\"width: 400px;\">"
   ]
  },
  {
   "cell_type": "markdown",
   "id": "b2909444-1ee9-475f-a897-7502ba5799f3",
   "metadata": {},
   "source": [
    "- A polinomial which has highest degree is euqal to two is a quadratic equiation .\n",
    "- Quardratic formula represent as a^2+bx+c=0,\n",
    "- a, b and c are real no hand a!=0\n",
    "- x is variable"
   ]
  },
  {
   "cell_type": "markdown",
   "id": "f190efc7-95c5-42b6-8a91-87fcbbea58cc",
   "metadata": {},
   "source": [
    "'''\n",
    "logic to solve  a quadratic equation \n",
    "1. first get the value of a from user\n",
    "2. save it to variable \n",
    "3. Second get the value of a from the user\n",
    "4. save the value in variable \n",
    "5. Get the value of c and save it in c\n",
    "6. then calculate the value of \n",
    "'''"
   ]
  },
  {
   "cell_type": "code",
   "execution_count": 5,
   "id": "31010792-1db1-4fd2-b98e-36dfe317bb35",
   "metadata": {},
   "outputs": [
    {
     "name": "stdin",
     "output_type": "stream",
     "text": [
      "Enter non zero value for a: 2\n",
      "Enter value for b: 4\n",
      "Enter value for c: 5\n"
     ]
    },
    {
     "name": "stdout",
     "output_type": "stream",
     "text": [
      "Value of x for +ve side is:(-4+1.224744871391589j)\n",
      "Value of x for +ve side is:(-4-1.224744871391589j)\n"
     ]
    }
   ],
   "source": [
    "import cmath as cm\n",
    "a = eval(input(\"Enter non zero value for a:\"))\n",
    "b = eval(input(\"Enter value for b:\"))\n",
    "c = eval(input(\"Enter value for c:\"))\n",
    "x= -b + (cm.sqrt(b**2-4*a*c))/(2*a)\n",
    "print(f\"Value of x for +ve side is:{x}\")\n",
    "x= -b - (cm.sqrt(b**2-4*a*c))/(2*a)\n",
    "print(f\"Value of x for +ve side is:{x}\")"
   ]
  },
  {
   "cell_type": "code",
   "execution_count": null,
   "id": "c9fb6d06-78bf-4696-bd09-387f2454799d",
   "metadata": {},
   "outputs": [],
   "source": []
  }
 ],
 "metadata": {
  "kernelspec": {
   "display_name": "Python 3 (ipykernel)",
   "language": "python",
   "name": "python3"
  },
  "language_info": {
   "codemirror_mode": {
    "name": "ipython",
    "version": 3
   },
   "file_extension": ".py",
   "mimetype": "text/x-python",
   "name": "python",
   "nbconvert_exporter": "python",
   "pygments_lexer": "ipython3",
   "version": "3.12.3"
  }
 },
 "nbformat": 4,
 "nbformat_minor": 5
}
