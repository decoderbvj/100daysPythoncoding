{
 "cells": [
  {
   "cell_type": "markdown",
   "id": "ca44f76c-2fd4-4590-9430-c63f18dd99c5",
   "metadata": {},
   "source": [
    "- Date : July 01, 2024\n",
    "- Day - 13 of 100 days python"
   ]
  },
  {
   "cell_type": "code",
   "execution_count": 4,
   "id": "92d54f8e-602f-4ce9-85fb-8c09150d56d9",
   "metadata": {},
   "outputs": [],
   "source": [
    "# todo\n",
    "# find out a given number is prime numeber or composite one"
   ]
  },
  {
   "cell_type": "code",
   "execution_count": 42,
   "id": "845881da-5eb4-4977-9084-b9dd957540c8",
   "metadata": {},
   "outputs": [
    {
     "name": "stdin",
     "output_type": "stream",
     "text": [
      "Enter a number : 5\n"
     ]
    },
    {
     "name": "stdout",
     "output_type": "stream",
     "text": [
      "5 is prime\n"
     ]
    }
   ],
   "source": [
    "# code \n",
    "number = eval(input(\"Enter a number :\"))\n",
    "if number == 1 or number == 2 or number ==3:\n",
    "    print(f\"{number} is prime\")\n",
    "else : \n",
    "    i = 2\n",
    "    while i < (number-1):\n",
    "        if number%i == 0:\n",
    "            break\n",
    "        else: i +=1\n",
    "    \n",
    "    if i == number-1:\n",
    "        print(f\"{number} is prime\")\n",
    "    else:\n",
    "        print(f\"{number} is composite one\")\n",
    "    \n",
    "        "
   ]
  },
  {
   "cell_type": "code",
   "execution_count": 52,
   "id": "6e5e4620-1c5e-4e90-9343-0f242718f6ed",
   "metadata": {},
   "outputs": [
    {
     "name": "stdin",
     "output_type": "stream",
     "text": [
      "Enter a number  4\n"
     ]
    },
    {
     "name": "stdout",
     "output_type": "stream",
     "text": [
      "4 is composite\n"
     ]
    }
   ],
   "source": [
    "# approach two\n",
    "import sympy\n",
    "number = eval(input(\"Enter a number \"))\n",
    "if sympy.isprime(number):\n",
    "    print(f\"{number} is prime\")\n",
    "else : print(f\"{number} is composite\")"
   ]
  },
  {
   "cell_type": "code",
   "execution_count": null,
   "id": "414d6a15-45d9-4542-a2de-b76773964cc7",
   "metadata": {},
   "outputs": [],
   "source": []
  }
 ],
 "metadata": {
  "kernelspec": {
   "display_name": "Python 3 (ipykernel)",
   "language": "python",
   "name": "python3"
  },
  "language_info": {
   "codemirror_mode": {
    "name": "ipython",
    "version": 3
   },
   "file_extension": ".py",
   "mimetype": "text/x-python",
   "name": "python",
   "nbconvert_exporter": "python",
   "pygments_lexer": "ipython3",
   "version": "3.12.4"
  }
 },
 "nbformat": 4,
 "nbformat_minor": 5
}
